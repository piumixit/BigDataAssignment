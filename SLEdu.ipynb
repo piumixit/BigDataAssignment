{
  "nbformat": 4,
  "nbformat_minor": 0,
  "metadata": {
    "colab": {
      "provenance": [],
      "authorship_tag": "ABX9TyMA6Ru/WTcMiSEFx4/Ft4a3",
      "include_colab_link": true
    },
    "kernelspec": {
      "name": "python3",
      "display_name": "Python 3"
    },
    "language_info": {
      "name": "python"
    }
  },
  "cells": [
    {
      "cell_type": "markdown",
      "metadata": {
        "id": "view-in-github",
        "colab_type": "text"
      },
      "source": [
        "<a href=\"https://colab.research.google.com/github/piumixit/BigDataAssignment/blob/main/SLEdu.ipynb\" target=\"_parent\"><img src=\"https://colab.research.google.com/assets/colab-badge.svg\" alt=\"Open In Colab\"/></a>"
      ]
    },
    {
      "cell_type": "code",
      "execution_count": 2,
      "metadata": {
        "colab": {
          "base_uri": "https://localhost:8080/"
        },
        "id": "UHdudfe0a0fb",
        "outputId": "e6ed9719-4015-411a-a963-0081ad2feb92"
      },
      "outputs": [
        {
          "output_type": "stream",
          "name": "stdout",
          "text": [
            "Cloning into 'BigDataAssignment'...\n",
            "remote: Enumerating objects: 13, done.\u001b[K\n",
            "remote: Counting objects: 100% (13/13), done.\u001b[K\n",
            "remote: Compressing objects: 100% (8/8), done.\u001b[K\n",
            "remote: Total 13 (delta 0), reused 0 (delta 0), pack-reused 0 (from 0)\u001b[K\n",
            "Receiving objects: 100% (13/13), 4.69 KiB | 4.69 MiB/s, done.\n",
            "/content/BigDataAssignment\n"
          ]
        }
      ],
      "source": [
        "!git clone https://github.com/piumixit/BigDataAssignment\n",
        "%cd BigDataAssignment"
      ]
    },
    {
      "cell_type": "code",
      "source": [
        "from pyspark.sql import SparkSession\n",
        "\n",
        "spark = SparkSession.builder.appName(\"StudentPerformanceAnalysis\").getOrCreate()\n",
        "\n",
        "!wget https://github.com/piumixit/BigDataAssignment/raw/main/data/Table01Studentsofgovernmentschoolenrollment_byprovincedistrictandgrade2020.csv -O Table01Studentsofgovernmentschoolenrollment_byprovincedistrictandgrade2020.csv\n",
        "!wget https://github.com/piumixit/BigDataAssignment/raw/main/data/Table07Teachersofallschools_bydistrictandsex2020.csv -O Table07Teachersofallschools_bydistrictandsex2020.csv\n",
        "!wget https://github.com/piumixit/BigDataAssignment/raw/main/data/Table11StudentsteacherratiosSTRs_byprovincedistrictandyear.csv -O Table11StudentsteacherratiosSTRs_byprovincedistrictandyear.csv\n",
        "!wget https://github.com/piumixit/BigDataAssignment/raw/main/data//Table14Performanceofschoolcandidates1st_attemptofGCE-OL-examination_bydistrict-sexandyear.csv -O Table14Performanceofschoolcandidates1st_attemptofGCE-OL-examination_bydistrict-sexandyear.csv\n",
        "!wget https://github.com/piumixit/BigDataAssignment/raw/main/data/Table15PerformanceofallcandidatesofGCE-AL-examination_bydistrict-sexandyear.csv -O Table15PerformanceofallcandidatesofGCE-AL-examination_bydistrict-sexandyear.csv\n",
        "\n",
        "df1 = spark.read.csv('Table01Studentsofgovernmentschoolenrollment_byprovincedistrictandgrade2020.csv', header=True, inferSchema=True)\n",
        "df2 = spark.read.csv('Table07Teachersofallschools_bydistrictandsex2020.csv', header=True, inferSchema=True)\n",
        "df3 = spark.read.csv('Table11StudentsteacherratiosSTRs_byprovincedistrictandyear.csv', header=True, inferSchema=True)\n",
        "df4 = spark.read.csv('Table14Performanceofschoolcandidates1st_attemptofGCE-OL-examination_bydistrict-sexandyear.csv', header=True, inferSchema=True)\n",
        "df5 = spark.read.csv('Table15PerformanceofallcandidatesofGCE-AL-examination_bydistrict-sexandyear.csv', header=True, inferSchema=True)\n",
        "\n",
        "df1.show(5)\n",
        "df2.show(5)\n",
        "df3.show(5)\n",
        "df4.show(5)\n",
        "df5.show(5)\n",
        "\n",
        "\n"
      ],
      "metadata": {
        "colab": {
          "base_uri": "https://localhost:8080/"
        },
        "id": "JOCyXYIsb1Xr",
        "outputId": "176ce353-462c-4a8f-a805-8bcdc3d14deb"
      },
      "execution_count": 11,
      "outputs": [
        {
          "output_type": "stream",
          "name": "stdout",
          "text": [
            "--2025-09-19 20:25:48--  https://github.com/piumixit/BigDataAssignment/raw/main/data/Table01Studentsofgovernmentschoolenrollment_byprovincedistrictandgrade2020.csv\n",
            "Resolving github.com (github.com)... 140.82.114.4\n",
            "Connecting to github.com (github.com)|140.82.114.4|:443... connected.\n",
            "HTTP request sent, awaiting response... 302 Found\n",
            "Location: https://raw.githubusercontent.com/piumixit/BigDataAssignment/main/data/Table01Studentsofgovernmentschoolenrollment_byprovincedistrictandgrade2020.csv [following]\n",
            "--2025-09-19 20:25:48--  https://raw.githubusercontent.com/piumixit/BigDataAssignment/main/data/Table01Studentsofgovernmentschoolenrollment_byprovincedistrictandgrade2020.csv\n",
            "Resolving raw.githubusercontent.com (raw.githubusercontent.com)... 185.199.108.133, 185.199.109.133, 185.199.110.133, ...\n",
            "Connecting to raw.githubusercontent.com (raw.githubusercontent.com)|185.199.108.133|:443... connected.\n",
            "HTTP request sent, awaiting response... 200 OK\n",
            "Length: 5277 (5.2K) [text/plain]\n",
            "Saving to: ‘Table01Studentsofgovernmentschoolenrollment_byprovincedistrictandgrade2020.csv’\n",
            "\n",
            "\r          Table01St   0%[                    ]       0  --.-KB/s               \rTable01Studentsofgo 100%[===================>]   5.15K  --.-KB/s    in 0s      \n",
            "\n",
            "2025-09-19 20:25:48 (52.6 MB/s) - ‘Table01Studentsofgovernmentschoolenrollment_byprovincedistrictandgrade2020.csv’ saved [5277/5277]\n",
            "\n",
            "--2025-09-19 20:25:48--  https://github.com/piumixit/BigDataAssignment/raw/main/data/Table07Teachersofallschools_bydistrictandsex2020.csv\n",
            "Resolving github.com (github.com)... 140.82.113.4\n",
            "Connecting to github.com (github.com)|140.82.113.4|:443... connected.\n",
            "HTTP request sent, awaiting response... 302 Found\n",
            "Location: https://raw.githubusercontent.com/piumixit/BigDataAssignment/main/data/Table07Teachersofallschools_bydistrictandsex2020.csv [following]\n",
            "--2025-09-19 20:25:48--  https://raw.githubusercontent.com/piumixit/BigDataAssignment/main/data/Table07Teachersofallschools_bydistrictandsex2020.csv\n",
            "Resolving raw.githubusercontent.com (raw.githubusercontent.com)... 185.199.110.133, 185.199.109.133, 185.199.108.133, ...\n",
            "Connecting to raw.githubusercontent.com (raw.githubusercontent.com)|185.199.110.133|:443... connected.\n",
            "HTTP request sent, awaiting response... 200 OK\n",
            "Length: 1303 (1.3K) [text/plain]\n",
            "Saving to: ‘Table07Teachersofallschools_bydistrictandsex2020.csv’\n",
            "\n",
            "Table07Teachersofal 100%[===================>]   1.27K  --.-KB/s    in 0s      \n",
            "\n",
            "2025-09-19 20:25:49 (64.2 MB/s) - ‘Table07Teachersofallschools_bydistrictandsex2020.csv’ saved [1303/1303]\n",
            "\n",
            "--2025-09-19 20:25:49--  https://github.com/piumixit/BigDataAssignment/raw/main/data/Table11StudentsteacherratiosSTRs_byprovincedistrictandyear.csv\n",
            "Resolving github.com (github.com)... 140.82.113.4\n",
            "Connecting to github.com (github.com)|140.82.113.4|:443... connected.\n",
            "HTTP request sent, awaiting response... 302 Found\n",
            "Location: https://raw.githubusercontent.com/piumixit/BigDataAssignment/main/data/Table11StudentsteacherratiosSTRs_byprovincedistrictandyear.csv [following]\n",
            "--2025-09-19 20:25:49--  https://raw.githubusercontent.com/piumixit/BigDataAssignment/main/data/Table11StudentsteacherratiosSTRs_byprovincedistrictandyear.csv\n",
            "Resolving raw.githubusercontent.com (raw.githubusercontent.com)... 185.199.108.133, 185.199.109.133, 185.199.110.133, ...\n",
            "Connecting to raw.githubusercontent.com (raw.githubusercontent.com)|185.199.108.133|:443... connected.\n",
            "HTTP request sent, awaiting response... 200 OK\n",
            "Length: 488 [text/plain]\n",
            "Saving to: ‘Table11StudentsteacherratiosSTRs_byprovincedistrictandyear.csv’\n",
            "\n",
            "Table11Studentsteac 100%[===================>]     488  --.-KB/s    in 0s      \n",
            "\n",
            "2025-09-19 20:25:49 (3.65 MB/s) - ‘Table11StudentsteacherratiosSTRs_byprovincedistrictandyear.csv’ saved [488/488]\n",
            "\n",
            "--2025-09-19 20:25:49--  https://github.com/piumixit/BigDataAssignment/raw/main/data//Table14Performanceofschoolcandidates1st_attemptofGCE-OL-examination_bydistrict-sexandyear.csv\n",
            "Resolving github.com (github.com)... 140.82.113.3\n",
            "Connecting to github.com (github.com)|140.82.113.3|:443... connected.\n",
            "HTTP request sent, awaiting response... 302 Found\n",
            "Location: https://raw.githubusercontent.com/piumixit/BigDataAssignment/main/data/Table14Performanceofschoolcandidates1st_attemptofGCE-OL-examination_bydistrict-sexandyear.csv [following]\n",
            "--2025-09-19 20:25:49--  https://raw.githubusercontent.com/piumixit/BigDataAssignment/main/data/Table14Performanceofschoolcandidates1st_attemptofGCE-OL-examination_bydistrict-sexandyear.csv\n",
            "Resolving raw.githubusercontent.com (raw.githubusercontent.com)... 185.199.108.133, 185.199.109.133, 185.199.111.133, ...\n",
            "Connecting to raw.githubusercontent.com (raw.githubusercontent.com)|185.199.108.133|:443... connected.\n",
            "HTTP request sent, awaiting response... 200 OK\n",
            "Length: 4581 (4.5K) [text/plain]\n",
            "Saving to: ‘Table14Performanceofschoolcandidates1st_attemptofGCE-OL-examination_bydistrict-sexandyear.csv’\n",
            "\n",
            "Table14Performanceo 100%[===================>]   4.47K  --.-KB/s    in 0s      \n",
            "\n",
            "2025-09-19 20:25:49 (46.2 MB/s) - ‘Table14Performanceofschoolcandidates1st_attemptofGCE-OL-examination_bydistrict-sexandyear.csv’ saved [4581/4581]\n",
            "\n",
            "--2025-09-19 20:25:49--  https://github.com/piumixit/BigDataAssignment/raw/main/data/Table15PerformanceofallcandidatesofGCE-AL-examination_bydistrict-sexandyear.csv\n",
            "Resolving github.com (github.com)... 140.82.113.4\n",
            "Connecting to github.com (github.com)|140.82.113.4|:443... connected.\n",
            "HTTP request sent, awaiting response... 302 Found\n",
            "Location: https://raw.githubusercontent.com/piumixit/BigDataAssignment/main/data/Table15PerformanceofallcandidatesofGCE-AL-examination_bydistrict-sexandyear.csv [following]\n",
            "--2025-09-19 20:25:49--  https://raw.githubusercontent.com/piumixit/BigDataAssignment/main/data/Table15PerformanceofallcandidatesofGCE-AL-examination_bydistrict-sexandyear.csv\n",
            "Resolving raw.githubusercontent.com (raw.githubusercontent.com)... 185.199.108.133, 185.199.109.133, 185.199.110.133, ...\n",
            "Connecting to raw.githubusercontent.com (raw.githubusercontent.com)|185.199.108.133|:443... connected.\n",
            "HTTP request sent, awaiting response... 200 OK\n",
            "Length: 4234 (4.1K) [text/plain]\n",
            "Saving to: ‘Table15PerformanceofallcandidatesofGCE-AL-examination_bydistrict-sexandyear.csv’\n",
            "\n",
            "Table15Performanceo 100%[===================>]   4.13K  --.-KB/s    in 0s      \n",
            "\n",
            "2025-09-19 20:25:49 (44.0 MB/s) - ‘Table15PerformanceofallcandidatesofGCE-AL-examination_bydistrict-sexandyear.csv’ saved [4234/4234]\n",
            "\n",
            "+-------------------+-------+-------+-------+-------+-------+-------+-------+-------+-------+--------+------------+------------------+---------+----------+-----------------+---------+\n",
            "|Province / District|Grade 1|Grade 2|Grade 3|Grade 4|Grade 5|Grade 6|Grade 7|Grade 8|Grade 9|Grade 10|Grade 11-1st|Grade 11 repeaters|Grade 12 | Grade 13 |Special education|    Total|\n",
            "+-------------------+-------+-------+-------+-------+-------+-------+-------+-------+-------+--------+------------+------------------+---------+----------+-----------------+---------+\n",
            "|          Sri Lanka|319,405|333,128|329,172|333,714|325,228|331,910|345,307|344,391|335,829| 321,885|     305,566|             9,534|  218,191|   202,923|            7,502|4,063,685|\n",
            "|   Western province| 68,512| 71,603| 71,457| 73,126| 71,412| 75,830| 80,316| 79,101| 78,238|  76,800|      74,258|               557|   54,323|    51,149|            1,195|  927,877|\n",
            "|            Colombo| 24,687| 25,994| 25,909| 26,786| 26,496| 29,775| 31,491| 30,949| 30,785|  30,357|      29,753|               131|   23,250|    21,724|              340|  358,427|\n",
            "|            Gampaha| 26,351| 27,392| 27,587| 28,112| 27,292| 28,203| 29,766| 29,287| 28,786|  28,388|      27,606|                50|   19,202|    18,135|              512|  346,669|\n",
            "|           Kalutara| 17,474| 18,217| 17,961| 18,228| 17,624| 17,852| 19,059| 18,865| 18,667|  18,055|      16,899|               376|   11,871|    11,290|              343|  222,781|\n",
            "+-------------------+-------+-------+-------+-------+-------+-------+-------+-------+-------+--------+------------+------------------+---------+----------+-----------------+---------+\n",
            "only showing top 5 rows\n",
            "\n",
            "+---------+----------+---+------+------+-------+--------+\n",
            "| District|Both sexes|_c2|  Male|Male %| Female|Female %|\n",
            "+---------+----------+---+------+------+-------+--------+\n",
            "|Sri Lanka|   265,194|100|66,692|  25.1|198,502|    74.9|\n",
            "|  Colombo|    22,206|100| 3,772|  17.0| 18,434|    83.0|\n",
            "| Gamapaha|    19,151|100| 3,471|  18.1| 15,680|    81.9|\n",
            "| Kalutara|    12,605|100| 2,186|  17.3| 10,419|    82.7|\n",
            "|   Kandy |    19,320|100| 4,053|  21.0| 15,267|    79.0|\n",
            "+---------+----------+---+------+------+-------+--------+\n",
            "only showing top 5 rows\n",
            "\n",
            "+---------+----+----+\n",
            "|      _c0|2015|2020|\n",
            "+---------+----+----+\n",
            "|Sri Lanka|  18|16.3|\n",
            "|  Colombo|  22|20.0|\n",
            "|  Gampaha|  22|20.8|\n",
            "| Kalutara|  20|19.3|\n",
            "|   Kandy |  16|15.5|\n",
            "+---------+----+----+\n",
            "only showing top 5 rows\n",
            "\n",
            "+----------+--------+------------------------+-------------------------------+-----+-------------------------+-------------------------+-----+----+----+----+\n",
            "|  District|     Sex|Sat for G.C.E (O/L) 2015|Qualified for G.C.E. (A/L) 2015|2015%|Sat for G.C.E (O/L) 20195|Sat for G.C.E (O/L) 20196|2019%| _c8| _c9|_c10|\n",
            "+----------+--------+------------------------+-------------------------------+-----+-------------------------+-------------------------+-----+----+----+----+\n",
            "|Sri Lanka |Both sex|                 290,929|                        195,358| 67.2|                  334,474|                  236,093| 70.6|NULL|NULL|NULL|\n",
            "|      NULL|    Male|                 144,190|                         83,791| 58.1|                  166,921|                  104,862| 62.8|NULL|NULL|NULL|\n",
            "|      NULL|  Female|                 146,739|                        111,567| 76.0|                  167,553|                  131,231| 78.3|NULL|NULL|NULL|\n",
            "|   Colombo|Both sex|                  32,252|                         23,980| 74.4|                   36,170|                   27,692| 76.6|NULL|NULL|NULL|\n",
            "|      NULL|    Male|                  16,717|                         11,334| 67.8|                   18,319|                   13,190| 72.0|NULL|NULL|NULL|\n",
            "+----------+--------+------------------------+-------------------------------+-----+-------------------------+-------------------------+-----+----+----+----+\n",
            "only showing top 5 rows\n",
            "\n",
            "+---------+--------+------------------------+-------------------------------------+-----+------------------------+-------------------------------------+-----+\n",
            "| District|  Gender|Sat for G.C.E (A/L) 2015|Eligible for university entrance 2015|2015%|Sat for G.C.E (A/L) 2020|Eligible for university entrance 2020|2020%|\n",
            "+---------+--------+------------------------+-------------------------------------+-----+------------------------+-------------------------------------+-----+\n",
            "|Sri Lanka|Both sex|                 210,340|                              131,137| 62.4|                 277,625|                              178,337| 64.2|\n",
            "|     NULL|    Male|                  88,702|                               46,689| 52.6|                 117,651|                               63,768| 54.2|\n",
            "|     NULL|  Female|                 121,638|                               84,448| 69.4|                 159,974|                              114,569| 71.6|\n",
            "|  Colombo|Both sex|                  25,913|                               16,502| 63.7|                  32,151|                               21,297| 66.2|\n",
            "|     NULL|    Male|                  12,412|                                7,099| 57.2|                  15,337|                                9,220| 60.1|\n",
            "+---------+--------+------------------------+-------------------------------------+-----+------------------------+-------------------------------------+-----+\n",
            "only showing top 5 rows\n",
            "\n"
          ]
        }
      ]
    },
    {
      "cell_type": "code",
      "source": [
        "\n",
        "df1 = df1.withColumnRenamed(\"Province / District\", \"district\")\n",
        "df2 = df2.withColumnRenamed(\"District\", \"district\")\n",
        "df3 = df3.withColumnRenamed(\"_c0\", \"district\")\n",
        "df4 = df4.withColumnRenamed(\"District\", \"district\")\n",
        "df5 = df5.withColumnRenamed(\"District\", \"district\")\n"
      ],
      "metadata": {
        "id": "w4o6ZIezqmkQ"
      },
      "execution_count": 14,
      "outputs": []
    },
    {
      "cell_type": "code",
      "source": [
        "\n",
        "merged_df = df1.join(df2, on=\"district\", how=\"inner\") \\\n",
        "               .join(df3, on=\"district\", how=\"inner\") \\\n",
        "               .join(df4, on=\"district\", how=\"inner\") \\\n",
        "               .join(df5, on=\"district\", how=\"inner\")\n",
        "\n",
        "\n",
        "merged_df.show(5)\n"
      ],
      "metadata": {
        "colab": {
          "base_uri": "https://localhost:8080/"
        },
        "id": "jCdd7_o_myBl",
        "outputId": "b3c6587d-bdf8-40cf-bbd3-c3156c25de80"
      },
      "execution_count": 15,
      "outputs": [
        {
          "output_type": "stream",
          "name": "stdout",
          "text": [
            "+------------+-------+-------+-------+-------+-------+-------+-------+-------+-------+--------+------------+------------------+---------+----------+-----------------+-------+----------+---+-----+------+------+--------+----+----+--------+------------------------+-------------------------------+-----+-------------------------+-------------------------+-----+----+----+----+--------+------------------------+-------------------------------------+-----+------------------------+-------------------------------------+-----+\n",
            "|    district|Grade 1|Grade 2|Grade 3|Grade 4|Grade 5|Grade 6|Grade 7|Grade 8|Grade 9|Grade 10|Grade 11-1st|Grade 11 repeaters|Grade 12 | Grade 13 |Special education|  Total|Both sexes|_c2| Male|Male %|Female|Female %|2015|2020|     Sex|Sat for G.C.E (O/L) 2015|Qualified for G.C.E. (A/L) 2015|2015%|Sat for G.C.E (O/L) 20195|Sat for G.C.E (O/L) 20196|2019%| _c8| _c9|_c10|  Gender|Sat for G.C.E (A/L) 2015|Eligible for university entrance 2015|2015%|Sat for G.C.E (A/L) 2020|Eligible for university entrance 2020|2020%|\n",
            "+------------+-------+-------+-------+-------+-------+-------+-------+-------+-------+--------+------------+------------------+---------+----------+-----------------+-------+----------+---+-----+------+------+--------+----+----+--------+------------------------+-------------------------------+-----+-------------------------+-------------------------+-----+----+----+----+--------+------------------------+-------------------------------------+-----+------------------------+-------------------------------------+-----+\n",
            "|     Colombo| 24,687| 25,994| 25,909| 26,786| 26,496| 29,775| 31,491| 30,949| 30,785|  30,357|      29,753|               131|   23,250|    21,724|              340|358,427|    22,206|100|3,772|  17.0|18,434|    83.0|  22|20.0|Both sex|                  32,252|                         23,980| 74.4|                   36,170|                   27,692| 76.6|NULL|NULL|NULL|Both sex|                  25,913|                               16,502| 63.7|                  32,151|                               21,297| 66.2|\n",
            "|    Kalutara| 17,474| 18,217| 17,961| 18,228| 17,624| 17,852| 19,059| 18,865| 18,667|  18,055|      16,899|               376|   11,871|    11,290|              343|222,781|    12,605|100|2,186|  17.3|10,419|    82.7|  20|19.3|Both sex|                  16,067|                         11,000| 68.5|                   18,599|                   13,182| 70.9|NULL|NULL|NULL|Both sex|                  11,414|                                7,020| 61.5|                  15,560|                               10,016| 64.4|\n",
            "|      Matale|  8,557|  8,739|  9,002|  8,734|  8,326|  8,264|  8,624|  8,313|  8,036|   7,757|       7,839|               103|    5,540|     4,968|              181|102,983|     6,943|100|1,653|  23.8| 5,290|    76.2|  15|15.5|Both sex|                   6,950|                          4,376| 63.0|                    8,239|                    5,640| 68.5|NULL|NULL|NULL|Both sex|                   4,799|                                2,948| 61.4|                   6,792|                                4,340| 63.9|\n",
            "|Nuwara Eliya| 12,520| 13,844| 13,722| 13,287| 12,904| 13,263| 13,584| 13,868| 13,807|  12,764|      11,918|               278|    7,365|     6,672|              257|160,053|    10,798|100|3,182|  29.5| 7,616|    70.5|  16|15.1|Both sex|                  10,252|                          6,019| 58.7|                   12,448|                    7,761| 62.3|NULL|NULL|NULL|Both sex|                   5,834|                                3,645| 62.5|                   8,331|                                5,156| 61.9|\n",
            "|       Galle| 16,610| 17,081| 17,132| 17,349| 16,659| 17,599| 18,689| 18,433| 18,535|  17,269|      16,870|               175|   12,080|    11,329|              329|216,139|    13,064|100|2,990|  22.9|10,074|    77.1|  20|17.4|Both sex|                  15,701|                         11,333| 72.2|                   16,859|                   12,592| 74.7|NULL|NULL|NULL|Both sex|                  12,731|                                7,733| 60.7|                  15,789|                               10,488| 66.4|\n",
            "+------------+-------+-------+-------+-------+-------+-------+-------+-------+-------+--------+------------+------------------+---------+----------+-----------------+-------+----------+---+-----+------+------+--------+----+----+--------+------------------------+-------------------------------+-----+-------------------------+-------------------------+-----+----+----+----+--------+------------------------+-------------------------------------+-----+------------------------+-------------------------------------+-----+\n",
            "only showing top 5 rows\n",
            "\n"
          ]
        }
      ]
    },
    {
      "cell_type": "code",
      "source": [
        "# Rename columns for clarity\n",
        "df = df.withColumnRenamed('_c2', 'Grade 1')\n",
        "df = df.withColumnRenamed('_c8', 'Grade 11 repeaters')\n",
        "df = df.withColumnRenamed('_c9', 'Grade 12')\n",
        "df = df.withColumnRenamed('_c10', 'Grade 13')\n",
        "\n",
        "# Show updated column names to verify the changes\n",
        "df.printSchema()\n",
        "\n",
        "# Show the first few rows to ensure the data is loaded correctly\n",
        "df.show(5)\n"
      ],
      "metadata": {
        "colab": {
          "base_uri": "https://localhost:8080/"
        },
        "id": "RZ1DEKqzrImR",
        "outputId": "dfb1c57b-ca42-4d78-9f01-2969eee4cc5e"
      },
      "execution_count": 17,
      "outputs": [
        {
          "output_type": "stream",
          "name": "stdout",
          "text": [
            "root\n",
            " |-- Province / District: string (nullable = true)\n",
            " |-- Grade 1: string (nullable = true)\n",
            " |-- Grade 2: string (nullable = true)\n",
            " |-- Grade 3: string (nullable = true)\n",
            " |-- Grade 4: string (nullable = true)\n",
            " |-- Grade 5: string (nullable = true)\n",
            " |-- Grade 6: string (nullable = true)\n",
            " |-- Grade 7: string (nullable = true)\n",
            " |-- Grade 8: string (nullable = true)\n",
            " |-- Grade 9: string (nullable = true)\n",
            " |-- Grade 10: string (nullable = true)\n",
            " |-- Grade 11-1st: string (nullable = true)\n",
            " |-- Grade 11 repeaters: string (nullable = true)\n",
            " |-- Grade 12 : string (nullable = true)\n",
            " |--  Grade 13 : string (nullable = true)\n",
            " |-- Special education: string (nullable = true)\n",
            " |-- Total: string (nullable = true)\n",
            "\n",
            "+-------------------+-------+-------+-------+-------+-------+-------+-------+-------+-------+--------+------------+------------------+---------+----------+-----------------+---------+\n",
            "|Province / District|Grade 1|Grade 2|Grade 3|Grade 4|Grade 5|Grade 6|Grade 7|Grade 8|Grade 9|Grade 10|Grade 11-1st|Grade 11 repeaters|Grade 12 | Grade 13 |Special education|    Total|\n",
            "+-------------------+-------+-------+-------+-------+-------+-------+-------+-------+-------+--------+------------+------------------+---------+----------+-----------------+---------+\n",
            "|          Sri Lanka|319,405|333,128|329,172|333,714|325,228|331,910|345,307|344,391|335,829| 321,885|     305,566|             9,534|  218,191|   202,923|            7,502|4,063,685|\n",
            "|   Western province| 68,512| 71,603| 71,457| 73,126| 71,412| 75,830| 80,316| 79,101| 78,238|  76,800|      74,258|               557|   54,323|    51,149|            1,195|  927,877|\n",
            "|            Colombo| 24,687| 25,994| 25,909| 26,786| 26,496| 29,775| 31,491| 30,949| 30,785|  30,357|      29,753|               131|   23,250|    21,724|              340|  358,427|\n",
            "|            Gampaha| 26,351| 27,392| 27,587| 28,112| 27,292| 28,203| 29,766| 29,287| 28,786|  28,388|      27,606|                50|   19,202|    18,135|              512|  346,669|\n",
            "|           Kalutara| 17,474| 18,217| 17,961| 18,228| 17,624| 17,852| 19,059| 18,865| 18,667|  18,055|      16,899|               376|   11,871|    11,290|              343|  222,781|\n",
            "+-------------------+-------+-------+-------+-------+-------+-------+-------+-------+-------+--------+------------+------------------+---------+----------+-----------------+---------+\n",
            "only showing top 5 rows\n",
            "\n"
          ]
        }
      ]
    }
  ]
}
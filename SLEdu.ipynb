{
  "nbformat": 4,
  "nbformat_minor": 0,
  "metadata": {
    "colab": {
      "provenance": [],
      "authorship_tag": "ABX9TyOY7sbmZyBls9of3Zz76F2A",
      "include_colab_link": true
    },
    "kernelspec": {
      "name": "python3",
      "display_name": "Python 3"
    },
    "language_info": {
      "name": "python"
    }
  },
  "cells": [
    {
      "cell_type": "markdown",
      "metadata": {
        "id": "view-in-github",
        "colab_type": "text"
      },
      "source": [
        "<a href=\"https://colab.research.google.com/github/piumixit/BigDataAssignment/blob/main/SLEdu.ipynb\" target=\"_parent\"><img src=\"https://colab.research.google.com/assets/colab-badge.svg\" alt=\"Open In Colab\"/></a>"
      ]
    },
    {
      "cell_type": "code",
      "execution_count": 1,
      "metadata": {
        "colab": {
          "base_uri": "https://localhost:8080/"
        },
        "id": "UHdudfe0a0fb",
        "outputId": "bc4324b8-a66a-4b56-dc98-fde311d039f6"
      },
      "outputs": [
        {
          "output_type": "stream",
          "name": "stdout",
          "text": [
            "Cloning into 'BigDataAssignment'...\n",
            "remote: Enumerating objects: 64, done.\u001b[K\n",
            "remote: Counting objects: 100% (64/64), done.\u001b[K\n",
            "remote: Compressing objects: 100% (59/59), done.\u001b[K\n",
            "remote: Total 64 (delta 26), reused 0 (delta 0), pack-reused 0 (from 0)\u001b[K\n",
            "Receiving objects: 100% (64/64), 213.53 KiB | 8.90 MiB/s, done.\n",
            "Resolving deltas: 100% (26/26), done.\n",
            "/content/BigDataAssignment\n"
          ]
        }
      ],
      "source": [
        "!git clone https://github.com/piumixit/BigDataAssignment\n",
        "%cd BigDataAssignment"
      ]
    },
    {
      "cell_type": "code",
      "source": [
        "from pyspark.sql import SparkSession\n",
        "\n",
        "spark = SparkSession.builder.appName(\"StudentPerformanceAnalysis\").getOrCreate()\n",
        "\n",
        "!wget https://github.com/piumixit/BigDataAssignment/raw/main/data/Table01Studentsofgovernmentschoolenrollment_byprovincedistrictandgrade2020.csv -O Table01Studentsofgovernmentschoolenrollment_byprovincedistrictandgrade2020.csv\n",
        "!wget https://github.com/piumixit/BigDataAssignment/raw/main/data/Table07Teachersofallschools_bydistrictandsex2020.csv -O Table07Teachersofallschools_bydistrictandsex2020.csv\n",
        "!wget https://github.com/piumixit/BigDataAssignment/raw/main/data/Table11StudentsteacherratiosSTRs_byprovincedistrictandyear.csv -O Table11StudentsteacherratiosSTRs_byprovincedistrictandyear.csv\n",
        "!wget https://github.com/piumixit/BigDataAssignment/raw/main/data//Table14Performanceofschoolcandidates1st_attemptofGCE-OL-examination_bydistrict-sexandyear.csv -O Table14Performanceofschoolcandidates1st_attemptofGCE-OL-examination_bydistrict-sexandyear.csv\n",
        "!wget https://github.com/piumixit/BigDataAssignment/raw/main/data/Table15PerformanceofallcandidatesofGCE-AL-examination_bydistrict-sexandyear.csv -O Table15PerformanceofallcandidatesofGCE-AL-examination_bydistrict-sexandyear.csv\n",
        "\n",
        "df1 = spark.read.csv('Table01Studentsofgovernmentschoolenrollment_byprovincedistrictandgrade2020.csv', header=True, inferSchema=True)\n",
        "df2 = spark.read.csv('Table07Teachersofallschools_bydistrictandsex2020.csv', header=True, inferSchema=True)\n",
        "df3 = spark.read.csv('Table11StudentsteacherratiosSTRs_byprovincedistrictandyear.csv', header=True, inferSchema=True)\n",
        "df4 = spark.read.csv('Table14Performanceofschoolcandidates1st_attemptofGCE-OL-examination_bydistrict-sexandyear.csv', header=True, inferSchema=True)\n",
        "df5 = spark.read.csv('Table15PerformanceofallcandidatesofGCE-AL-examination_bydistrict-sexandyear.csv', header=True, inferSchema=True)\n",
        "\n",
        "df1.show(5)\n",
        "df2.show(5)\n",
        "df3.show(5)\n",
        "df4.show(5)\n",
        "df5.show(5)\n",
        "\n",
        "\n"
      ],
      "metadata": {
        "colab": {
          "base_uri": "https://localhost:8080/"
        },
        "id": "JOCyXYIsb1Xr",
        "outputId": "264cdf5f-d7da-4a83-dd33-c5b63d0ac67b"
      },
      "execution_count": 76,
      "outputs": [
        {
          "output_type": "stream",
          "name": "stdout",
          "text": [
            "--2025-09-20 04:29:34--  https://github.com/piumixit/BigDataAssignment/raw/main/data/Table01Studentsofgovernmentschoolenrollment_byprovincedistrictandgrade2020.csv\n",
            "Resolving github.com (github.com)... 140.82.116.3\n",
            "Connecting to github.com (github.com)|140.82.116.3|:443... connected.\n",
            "HTTP request sent, awaiting response... 302 Found\n",
            "Location: https://raw.githubusercontent.com/piumixit/BigDataAssignment/main/data/Table01Studentsofgovernmentschoolenrollment_byprovincedistrictandgrade2020.csv [following]\n",
            "--2025-09-20 04:29:34--  https://raw.githubusercontent.com/piumixit/BigDataAssignment/main/data/Table01Studentsofgovernmentschoolenrollment_byprovincedistrictandgrade2020.csv\n",
            "Resolving raw.githubusercontent.com (raw.githubusercontent.com)... 185.199.111.133, 185.199.110.133, 185.199.108.133, ...\n",
            "Connecting to raw.githubusercontent.com (raw.githubusercontent.com)|185.199.111.133|:443... connected.\n",
            "HTTP request sent, awaiting response... 200 OK\n",
            "Length: 5277 (5.2K) [text/plain]\n",
            "Saving to: ‘Table01Studentsofgovernmentschoolenrollment_byprovincedistrictandgrade2020.csv’\n",
            "\n",
            "Table01Studentsofgo 100%[===================>]   5.15K  --.-KB/s    in 0s      \n",
            "\n",
            "2025-09-20 04:29:34 (60.8 MB/s) - ‘Table01Studentsofgovernmentschoolenrollment_byprovincedistrictandgrade2020.csv’ saved [5277/5277]\n",
            "\n",
            "--2025-09-20 04:29:34--  https://github.com/piumixit/BigDataAssignment/raw/main/data/Table07Teachersofallschools_bydistrictandsex2020.csv\n",
            "Resolving github.com (github.com)... 140.82.116.3\n",
            "Connecting to github.com (github.com)|140.82.116.3|:443... connected.\n",
            "HTTP request sent, awaiting response... 302 Found\n",
            "Location: https://raw.githubusercontent.com/piumixit/BigDataAssignment/main/data/Table07Teachersofallschools_bydistrictandsex2020.csv [following]\n",
            "--2025-09-20 04:29:35--  https://raw.githubusercontent.com/piumixit/BigDataAssignment/main/data/Table07Teachersofallschools_bydistrictandsex2020.csv\n",
            "Resolving raw.githubusercontent.com (raw.githubusercontent.com)... 185.199.108.133, 185.199.109.133, 185.199.110.133, ...\n",
            "Connecting to raw.githubusercontent.com (raw.githubusercontent.com)|185.199.108.133|:443... connected.\n",
            "HTTP request sent, awaiting response... 200 OK\n",
            "Length: 1306 (1.3K) [text/plain]\n",
            "Saving to: ‘Table07Teachersofallschools_bydistrictandsex2020.csv’\n",
            "\n",
            "Table07Teachersofal 100%[===================>]   1.28K  --.-KB/s    in 0s      \n",
            "\n",
            "2025-09-20 04:29:35 (61.4 MB/s) - ‘Table07Teachersofallschools_bydistrictandsex2020.csv’ saved [1306/1306]\n",
            "\n",
            "--2025-09-20 04:29:35--  https://github.com/piumixit/BigDataAssignment/raw/main/data/Table11StudentsteacherratiosSTRs_byprovincedistrictandyear.csv\n",
            "Resolving github.com (github.com)... 140.82.116.3\n",
            "Connecting to github.com (github.com)|140.82.116.3|:443... connected.\n",
            "HTTP request sent, awaiting response... 302 Found\n",
            "Location: https://raw.githubusercontent.com/piumixit/BigDataAssignment/main/data/Table11StudentsteacherratiosSTRs_byprovincedistrictandyear.csv [following]\n",
            "--2025-09-20 04:29:35--  https://raw.githubusercontent.com/piumixit/BigDataAssignment/main/data/Table11StudentsteacherratiosSTRs_byprovincedistrictandyear.csv\n",
            "Resolving raw.githubusercontent.com (raw.githubusercontent.com)... 185.199.108.133, 185.199.109.133, 185.199.110.133, ...\n",
            "Connecting to raw.githubusercontent.com (raw.githubusercontent.com)|185.199.108.133|:443... connected.\n",
            "HTTP request sent, awaiting response... 200 OK\n",
            "Length: 488 [text/plain]\n",
            "Saving to: ‘Table11StudentsteacherratiosSTRs_byprovincedistrictandyear.csv’\n",
            "\n",
            "Table11Studentsteac 100%[===================>]     488  --.-KB/s    in 0s      \n",
            "\n",
            "2025-09-20 04:29:35 (38.4 MB/s) - ‘Table11StudentsteacherratiosSTRs_byprovincedistrictandyear.csv’ saved [488/488]\n",
            "\n",
            "--2025-09-20 04:29:35--  https://github.com/piumixit/BigDataAssignment/raw/main/data//Table14Performanceofschoolcandidates1st_attemptofGCE-OL-examination_bydistrict-sexandyear.csv\n",
            "Resolving github.com (github.com)... 140.82.116.3\n",
            "Connecting to github.com (github.com)|140.82.116.3|:443... connected.\n",
            "HTTP request sent, awaiting response... 302 Found\n",
            "Location: https://raw.githubusercontent.com/piumixit/BigDataAssignment/main/data/Table14Performanceofschoolcandidates1st_attemptofGCE-OL-examination_bydistrict-sexandyear.csv [following]\n",
            "--2025-09-20 04:29:35--  https://raw.githubusercontent.com/piumixit/BigDataAssignment/main/data/Table14Performanceofschoolcandidates1st_attemptofGCE-OL-examination_bydistrict-sexandyear.csv\n",
            "Resolving raw.githubusercontent.com (raw.githubusercontent.com)... 185.199.108.133, 185.199.109.133, 185.199.110.133, ...\n",
            "Connecting to raw.githubusercontent.com (raw.githubusercontent.com)|185.199.108.133|:443... connected.\n",
            "HTTP request sent, awaiting response... 200 OK\n",
            "Length: 4584 (4.5K) [text/plain]\n",
            "Saving to: ‘Table14Performanceofschoolcandidates1st_attemptofGCE-OL-examination_bydistrict-sexandyear.csv’\n",
            "\n",
            "Table14Performanceo 100%[===================>]   4.48K  --.-KB/s    in 0s      \n",
            "\n",
            "2025-09-20 04:29:36 (49.9 MB/s) - ‘Table14Performanceofschoolcandidates1st_attemptofGCE-OL-examination_bydistrict-sexandyear.csv’ saved [4584/4584]\n",
            "\n",
            "--2025-09-20 04:29:36--  https://github.com/piumixit/BigDataAssignment/raw/main/data/Table15PerformanceofallcandidatesofGCE-AL-examination_bydistrict-sexandyear.csv\n",
            "Resolving github.com (github.com)... 140.82.116.3\n",
            "Connecting to github.com (github.com)|140.82.116.3|:443... connected.\n",
            "HTTP request sent, awaiting response... 302 Found\n",
            "Location: https://raw.githubusercontent.com/piumixit/BigDataAssignment/main/data/Table15PerformanceofallcandidatesofGCE-AL-examination_bydistrict-sexandyear.csv [following]\n",
            "--2025-09-20 04:29:36--  https://raw.githubusercontent.com/piumixit/BigDataAssignment/main/data/Table15PerformanceofallcandidatesofGCE-AL-examination_bydistrict-sexandyear.csv\n",
            "Resolving raw.githubusercontent.com (raw.githubusercontent.com)... 185.199.108.133, 185.199.109.133, 185.199.110.133, ...\n",
            "Connecting to raw.githubusercontent.com (raw.githubusercontent.com)|185.199.108.133|:443... connected.\n",
            "HTTP request sent, awaiting response... 200 OK\n",
            "Length: 4235 (4.1K) [text/plain]\n",
            "Saving to: ‘Table15PerformanceofallcandidatesofGCE-AL-examination_bydistrict-sexandyear.csv’\n",
            "\n",
            "Table15Performanceo 100%[===================>]   4.14K  --.-KB/s    in 0s      \n",
            "\n",
            "2025-09-20 04:29:36 (41.8 MB/s) - ‘Table15PerformanceofallcandidatesofGCE-AL-examination_bydistrict-sexandyear.csv’ saved [4235/4235]\n",
            "\n",
            "+-------------------+-------+-------+-------+-------+-------+-------+-------+-------+-------+--------+------------+------------------+---------+----------+-----------------+---------+\n",
            "|Province / District|Grade 1|Grade 2|Grade 3|Grade 4|Grade 5|Grade 6|Grade 7|Grade 8|Grade 9|Grade 10|Grade 11-1st|Grade 11 repeaters|Grade 12 | Grade 13 |Special education|    Total|\n",
            "+-------------------+-------+-------+-------+-------+-------+-------+-------+-------+-------+--------+------------+------------------+---------+----------+-----------------+---------+\n",
            "|          Sri Lanka|319,405|333,128|329,172|333,714|325,228|331,910|345,307|344,391|335,829| 321,885|     305,566|             9,534|  218,191|   202,923|            7,502|4,063,685|\n",
            "|   Western province| 68,512| 71,603| 71,457| 73,126| 71,412| 75,830| 80,316| 79,101| 78,238|  76,800|      74,258|               557|   54,323|    51,149|            1,195|  927,877|\n",
            "|            Colombo| 24,687| 25,994| 25,909| 26,786| 26,496| 29,775| 31,491| 30,949| 30,785|  30,357|      29,753|               131|   23,250|    21,724|              340|  358,427|\n",
            "|            Gampaha| 26,351| 27,392| 27,587| 28,112| 27,292| 28,203| 29,766| 29,287| 28,786|  28,388|      27,606|                50|   19,202|    18,135|              512|  346,669|\n",
            "|           Kalutara| 17,474| 18,217| 17,961| 18,228| 17,624| 17,852| 19,059| 18,865| 18,667|  18,055|      16,899|               376|   11,871|    11,290|              343|  222,781|\n",
            "+-------------------+-------+-------+-------+-------+-------+-------+-------+-------+-------+--------+------------+------------------+---------+----------+-----------------+---------+\n",
            "only showing top 5 rows\n",
            "\n",
            "+---------+----------+---+------+------+-------+--------+\n",
            "| District|Both sexes|_c2|  Male|Male %| Female|Female %|\n",
            "+---------+----------+---+------+------+-------+--------+\n",
            "|Sri Lanka|   265,194|100|66,692|  25.1|198,502|    74.9|\n",
            "|  Colombo|    22,206|100| 3,772|  17.0| 18,434|    83.0|\n",
            "|  Gampaha|    19,151|100| 3,471|  18.1| 15,680|    81.9|\n",
            "| Kalutara|    12,605|100| 2,186|  17.3| 10,419|    82.7|\n",
            "|   Kandy |    19,320|100| 4,053|  21.0| 15,267|    79.0|\n",
            "+---------+----------+---+------+------+-------+--------+\n",
            "only showing top 5 rows\n",
            "\n",
            "+---------+----+----+\n",
            "|      _c0|2015|2020|\n",
            "+---------+----+----+\n",
            "|Sri Lanka|  18|16.3|\n",
            "|  Colombo|  22|20.0|\n",
            "|  Gampaha|  22|20.8|\n",
            "| Kalutara|  20|19.3|\n",
            "|   Kandy |  16|15.5|\n",
            "+---------+----+----+\n",
            "only showing top 5 rows\n",
            "\n",
            "+----------+--------+------------------------+-------------------------------+-----+-------------------------+-------------------------+-----+----+----+----+\n",
            "|  District|     Sex|Sat for G.C.E (O/L) 2015|Qualified for G.C.E. (A/L) 2015|2015%|Sat for G.C.E (O/L) 20195|Sat for G.C.E (O/L) 20196|2019%| _c8| _c9|_c10|\n",
            "+----------+--------+------------------------+-------------------------------+-----+-------------------------+-------------------------+-----+----+----+----+\n",
            "|Sri Lanka |Both sex|                 290,929|                        195,358| 67.2|                  334,474|                  236,093| 70.6|NULL|NULL|NULL|\n",
            "|      NULL|    Male|                 144,190|                         83,791| 58.1|                  166,921|                  104,862| 62.8|NULL|NULL|NULL|\n",
            "|      NULL|  Female|                 146,739|                        111,567| 76.0|                  167,553|                  131,231| 78.3|NULL|NULL|NULL|\n",
            "|   Colombo|Both sex|                  32,252|                         23,980| 74.4|                   36,170|                   27,692| 76.6|NULL|NULL|NULL|\n",
            "|      NULL|    Male|                  16,717|                         11,334| 67.8|                   18,319|                   13,190| 72.0|NULL|NULL|NULL|\n",
            "+----------+--------+------------------------+-------------------------------+-----+-------------------------+-------------------------+-----+----+----+----+\n",
            "only showing top 5 rows\n",
            "\n",
            "+---------+--------+------------------------+-------------------------------------+-----+------------------------+-------------------------------------+-----+\n",
            "| District|  Gender|Sat for G.C.E (A/L) 2015|Eligible for university entrance 2015|2015%|Sat for G.C.E (A/L) 2020|Eligible for university entrance 2020|2020%|\n",
            "+---------+--------+------------------------+-------------------------------------+-----+------------------------+-------------------------------------+-----+\n",
            "|Sri Lanka|Both sex|                 210,340|                              131,137| 62.4|                 277,625|                              178,337| 64.2|\n",
            "|     NULL|    Male|                  88,702|                               46,689| 52.6|                 117,651|                               63,768| 54.2|\n",
            "|     NULL|  Female|                 121,638|                               84,448| 69.4|                 159,974|                              114,569| 71.6|\n",
            "|  Colombo|Both sex|                  25,913|                               16,502| 63.7|                  32,151|                               21,297| 66.2|\n",
            "|     NULL|    Male|                  12,412|                                7,099| 57.2|                  15,337|                                9,220| 60.1|\n",
            "+---------+--------+------------------------+-------------------------------------+-----+------------------------+-------------------------------------+-----+\n",
            "only showing top 5 rows\n",
            "\n"
          ]
        }
      ]
    },
    {
      "cell_type": "code",
      "source": [
        "df4 = spark.read.csv('Table14Performanceofschoolcandidates1st_attemptofGCE-OL-examination_bydistrict-sexandyear.csv', header=True, inferSchema=True)\n",
        "df5 = spark.read.csv('Table15PerformanceofallcandidatesofGCE-AL-examination_bydistrict-sexandyear.csv', header=True, inferSchema=True)"
      ],
      "metadata": {
        "id": "1OS4Ko_B7Tao"
      },
      "execution_count": 77,
      "outputs": []
    },
    {
      "cell_type": "code",
      "source": [
        "df1.show(5)\n",
        "df1.columns"
      ],
      "metadata": {
        "colab": {
          "base_uri": "https://localhost:8080/"
        },
        "id": "TCrgYhx_u5vp",
        "outputId": "37a063b4-666e-49de-e5cb-607f4c86f0fa"
      },
      "execution_count": 78,
      "outputs": [
        {
          "output_type": "stream",
          "name": "stdout",
          "text": [
            "+-------------------+-------+-------+-------+-------+-------+-------+-------+-------+-------+--------+------------+------------------+---------+----------+-----------------+---------+\n",
            "|Province / District|Grade 1|Grade 2|Grade 3|Grade 4|Grade 5|Grade 6|Grade 7|Grade 8|Grade 9|Grade 10|Grade 11-1st|Grade 11 repeaters|Grade 12 | Grade 13 |Special education|    Total|\n",
            "+-------------------+-------+-------+-------+-------+-------+-------+-------+-------+-------+--------+------------+------------------+---------+----------+-----------------+---------+\n",
            "|          Sri Lanka|319,405|333,128|329,172|333,714|325,228|331,910|345,307|344,391|335,829| 321,885|     305,566|             9,534|  218,191|   202,923|            7,502|4,063,685|\n",
            "|   Western province| 68,512| 71,603| 71,457| 73,126| 71,412| 75,830| 80,316| 79,101| 78,238|  76,800|      74,258|               557|   54,323|    51,149|            1,195|  927,877|\n",
            "|            Colombo| 24,687| 25,994| 25,909| 26,786| 26,496| 29,775| 31,491| 30,949| 30,785|  30,357|      29,753|               131|   23,250|    21,724|              340|  358,427|\n",
            "|            Gampaha| 26,351| 27,392| 27,587| 28,112| 27,292| 28,203| 29,766| 29,287| 28,786|  28,388|      27,606|                50|   19,202|    18,135|              512|  346,669|\n",
            "|           Kalutara| 17,474| 18,217| 17,961| 18,228| 17,624| 17,852| 19,059| 18,865| 18,667|  18,055|      16,899|               376|   11,871|    11,290|              343|  222,781|\n",
            "+-------------------+-------+-------+-------+-------+-------+-------+-------+-------+-------+--------+------------+------------------+---------+----------+-----------------+---------+\n",
            "only showing top 5 rows\n",
            "\n"
          ]
        },
        {
          "output_type": "execute_result",
          "data": {
            "text/plain": [
              "['Province / District',\n",
              " 'Grade 1',\n",
              " 'Grade 2',\n",
              " 'Grade 3',\n",
              " 'Grade 4',\n",
              " 'Grade 5',\n",
              " 'Grade 6',\n",
              " 'Grade 7',\n",
              " 'Grade 8',\n",
              " 'Grade 9',\n",
              " 'Grade 10',\n",
              " 'Grade 11-1st',\n",
              " 'Grade 11 repeaters',\n",
              " 'Grade 12 ',\n",
              " ' Grade 13 ',\n",
              " 'Special education',\n",
              " 'Total']"
            ]
          },
          "metadata": {},
          "execution_count": 78
        }
      ]
    },
    {
      "cell_type": "code",
      "source": [
        "from pyspark.sql.functions import col, trim, lower\n",
        "\n",
        "df1 = df1.withColumnRenamed(\"Province / District\", \"District\")\n",
        "df1 = df1.withColumn(\"District\", trim(lower(col(\"District\"))))\n",
        "df1 = df1.filter(col(\"District\") != \"sri lanka\")\n",
        "df1 = df1.filter(~col(\"District\").contains(\"province\"))\n",
        "\n",
        "df1.select(\"District\").show()\n",
        "df1.show(5)"
      ],
      "metadata": {
        "colab": {
          "base_uri": "https://localhost:8080/"
        },
        "id": "r4uTw7F7u5x1",
        "outputId": "37ca0580-be0f-411a-94bd-27b93c3b53ea"
      },
      "execution_count": 79,
      "outputs": [
        {
          "output_type": "stream",
          "name": "stdout",
          "text": [
            "+------------+\n",
            "|    District|\n",
            "+------------+\n",
            "|     colombo|\n",
            "|     gampaha|\n",
            "|    kalutara|\n",
            "|       kandy|\n",
            "|      matale|\n",
            "|nuwara eliya|\n",
            "|       galle|\n",
            "|      matara|\n",
            "|  hambantota|\n",
            "|      jaffna|\n",
            "|      mannar|\n",
            "|    vavuniya|\n",
            "|   mullativu|\n",
            "|killinochchi|\n",
            "|  batticaloa|\n",
            "|      ampara|\n",
            "| trincomalee|\n",
            "|  kurunegala|\n",
            "|    puttalam|\n",
            "|anuradhapura|\n",
            "+------------+\n",
            "only showing top 20 rows\n",
            "\n",
            "+--------+-------+-------+-------+-------+-------+-------+-------+-------+-------+--------+------------+------------------+---------+----------+-----------------+-------+\n",
            "|District|Grade 1|Grade 2|Grade 3|Grade 4|Grade 5|Grade 6|Grade 7|Grade 8|Grade 9|Grade 10|Grade 11-1st|Grade 11 repeaters|Grade 12 | Grade 13 |Special education|  Total|\n",
            "+--------+-------+-------+-------+-------+-------+-------+-------+-------+-------+--------+------------+------------------+---------+----------+-----------------+-------+\n",
            "| colombo| 24,687| 25,994| 25,909| 26,786| 26,496| 29,775| 31,491| 30,949| 30,785|  30,357|      29,753|               131|   23,250|    21,724|              340|358,427|\n",
            "| gampaha| 26,351| 27,392| 27,587| 28,112| 27,292| 28,203| 29,766| 29,287| 28,786|  28,388|      27,606|                50|   19,202|    18,135|              512|346,669|\n",
            "|kalutara| 17,474| 18,217| 17,961| 18,228| 17,624| 17,852| 19,059| 18,865| 18,667|  18,055|      16,899|               376|   11,871|    11,290|              343|222,781|\n",
            "|   kandy| 21,730| 22,991| 21,844| 21,822| 21,767| 22,131| 22,917| 22,654| 22,066|  21,552|      21,385|               270|   16,175|    15,191|              442|274,937|\n",
            "|  matale|  8,557|  8,739|  9,002|  8,734|  8,326|  8,264|  8,624|  8,313|  8,036|   7,757|       7,839|               103|    5,540|     4,968|              181|102,983|\n",
            "+--------+-------+-------+-------+-------+-------+-------+-------+-------+-------+--------+------------+------------------+---------+----------+-----------------+-------+\n",
            "only showing top 5 rows\n",
            "\n"
          ]
        }
      ]
    },
    {
      "cell_type": "code",
      "source": [
        "from pyspark.sql.functions import col, trim, lower\n",
        "df2.show(5)\n",
        "df2.columns\n",
        "\n",
        "df2 = df2.withColumnRenamed(\"District\", \"District\") \\\n",
        "         .withColumnRenamed(\"Both sexes\", \"Total_Teachers\") \\\n",
        "         .withColumnRenamed(\"Male\", \"Male_Teachers\") \\\n",
        "         .withColumnRenamed(\"Male %\", \"Male_Percentage\") \\\n",
        "         .withColumnRenamed(\"Female\", \"Female_Teachers\") \\\n",
        "         .withColumnRenamed(\"Female %\", \"Female_Percentage\")\n",
        "\n",
        "df2 = df2.withColumn(\"District\", trim(lower(col(\"District\"))))\n",
        "df2 = df2.drop(\"_c2\")\n",
        "df2 = df2.filter(col(\"District\") != \"sri lanka\")\n",
        "\n",
        "df2.show(10)\n"
      ],
      "metadata": {
        "colab": {
          "base_uri": "https://localhost:8080/"
        },
        "id": "FQpDojH6yFP9",
        "outputId": "6da73235-3b39-4127-afdd-9b552e9618c1"
      },
      "execution_count": 80,
      "outputs": [
        {
          "output_type": "stream",
          "name": "stdout",
          "text": [
            "+---------+----------+---+------+------+-------+--------+\n",
            "| District|Both sexes|_c2|  Male|Male %| Female|Female %|\n",
            "+---------+----------+---+------+------+-------+--------+\n",
            "|Sri Lanka|   265,194|100|66,692|  25.1|198,502|    74.9|\n",
            "|  Colombo|    22,206|100| 3,772|  17.0| 18,434|    83.0|\n",
            "|  Gampaha|    19,151|100| 3,471|  18.1| 15,680|    81.9|\n",
            "| Kalutara|    12,605|100| 2,186|  17.3| 10,419|    82.7|\n",
            "|   Kandy |    19,320|100| 4,053|  21.0| 15,267|    79.0|\n",
            "+---------+----------+---+------+------+-------+--------+\n",
            "only showing top 5 rows\n",
            "\n",
            "+------------+--------------+-------------+---------------+---------------+-----------------+\n",
            "|    District|Total_Teachers|Male_Teachers|Male_Percentage|Female_Teachers|Female_Percentage|\n",
            "+------------+--------------+-------------+---------------+---------------+-----------------+\n",
            "|     colombo|        22,206|        3,772|           17.0|         18,434|             83.0|\n",
            "|     gampaha|        19,151|        3,471|           18.1|         15,680|             81.9|\n",
            "|    kalutara|        12,605|        2,186|           17.3|         10,419|             82.7|\n",
            "|       kandy|        19,320|        4,053|           21.0|         15,267|             79.0|\n",
            "|      matale|         6,943|        1,653|           23.8|          5,290|             76.2|\n",
            "|nuwara eliya|        10,798|        3,182|           29.5|          7,616|             70.5|\n",
            "|       galle|        13,064|        2,990|           22.9|         10,074|             77.1|\n",
            "|      matara|        11,426|        2,642|           23.1|          8,784|             76.9|\n",
            "|  hambantota|         8,907|        2,329|           26.1|          6,578|             73.9|\n",
            "|      jaffna|         9,819|        2,998|           30.5|          6,821|             69.5|\n",
            "+------------+--------------+-------------+---------------+---------------+-----------------+\n",
            "only showing top 10 rows\n",
            "\n"
          ]
        }
      ]
    },
    {
      "cell_type": "code",
      "source": [
        "from pyspark.sql.functions import trim, col, lower\n",
        "\n",
        "df3.show(5)\n",
        "df3.columns\n",
        "df3 = df3.withColumnRenamed(\"_c0\", \"District\") \\\n",
        "         .withColumnRenamed(\"2015\", \"STR_2015\") \\\n",
        "         .withColumnRenamed(\"2020\", \"STR_2020\")\n",
        "\n",
        "df3 = df3.withColumn(\"District\", trim(lower(col(\"District\"))))\n",
        "df3 = df3.filter(col(\"District\") != \"sri lanka\")\n",
        "df3.show(5)\n"
      ],
      "metadata": {
        "colab": {
          "base_uri": "https://localhost:8080/"
        },
        "id": "6SEKq2yP1ELe",
        "outputId": "896e5b6e-a7f9-4955-ebba-7921d6c2e185"
      },
      "execution_count": 81,
      "outputs": [
        {
          "output_type": "stream",
          "name": "stdout",
          "text": [
            "+---------+----+----+\n",
            "|      _c0|2015|2020|\n",
            "+---------+----+----+\n",
            "|Sri Lanka|  18|16.3|\n",
            "|  Colombo|  22|20.0|\n",
            "|  Gampaha|  22|20.8|\n",
            "| Kalutara|  20|19.3|\n",
            "|   Kandy |  16|15.5|\n",
            "+---------+----+----+\n",
            "only showing top 5 rows\n",
            "\n",
            "+--------+--------+--------+\n",
            "|District|STR_2015|STR_2020|\n",
            "+--------+--------+--------+\n",
            "| colombo|      22|    20.0|\n",
            "| gampaha|      22|    20.8|\n",
            "|kalutara|      20|    19.3|\n",
            "|   kandy|      16|    15.5|\n",
            "|  matale|      15|    15.5|\n",
            "+--------+--------+--------+\n",
            "only showing top 5 rows\n",
            "\n"
          ]
        }
      ]
    },
    {
      "cell_type": "code",
      "source": [
        "df4.show(5)\n",
        "df4.columns\n",
        "\n",
        "df4 = df4.withColumnRenamed(\"District\", \"District\") \\\n",
        "         .withColumnRenamed(\"Sex\", \"Sex\") \\\n",
        "         .withColumnRenamed(\"Sat for G.C.E (O/L) 2015\", \"OL_Sat_2015\") \\\n",
        "         .withColumnRenamed(\"Qualified for G.C.E. (A/L) 2015\", \"OL_Passed_2015\") \\\n",
        "         .withColumnRenamed(\"2015%\", \"OL_Percent_2015\") \\\n",
        "         .withColumnRenamed(\"Sat for G.C.E (O/L) 20195\", \"OL_Sat_2019\") \\\n",
        "         .withColumnRenamed(\"Sat for G.C.E (O/L) 20196\", \"OL_Passed_2019\") \\\n",
        "         .withColumnRenamed(\"2019%\", \"OL_Percent_2019\")\n",
        "df4 = df4.filter(~(col(\"District\").contains(\"sri lanka\")))\n",
        "df4 = df4.filter(col(\"District\").isNotNull())\n",
        "df4 = df4.drop(\"_c8\")\n",
        "df4 = df4.drop(\"_c9\")\n",
        "df4 = df4.drop(\"_c10\")\n",
        "df4.show(5)"
      ],
      "metadata": {
        "colab": {
          "base_uri": "https://localhost:8080/"
        },
        "id": "dDyedwh07Lqh",
        "outputId": "c3dec6ef-3ebc-45e5-eeb6-7b856359ebd5"
      },
      "execution_count": 82,
      "outputs": [
        {
          "output_type": "stream",
          "name": "stdout",
          "text": [
            "+----------+--------+------------------------+-------------------------------+-----+-------------------------+-------------------------+-----+----+----+----+\n",
            "|  District|     Sex|Sat for G.C.E (O/L) 2015|Qualified for G.C.E. (A/L) 2015|2015%|Sat for G.C.E (O/L) 20195|Sat for G.C.E (O/L) 20196|2019%| _c8| _c9|_c10|\n",
            "+----------+--------+------------------------+-------------------------------+-----+-------------------------+-------------------------+-----+----+----+----+\n",
            "|Sri Lanka |Both sex|                 290,929|                        195,358| 67.2|                  334,474|                  236,093| 70.6|NULL|NULL|NULL|\n",
            "|      NULL|    Male|                 144,190|                         83,791| 58.1|                  166,921|                  104,862| 62.8|NULL|NULL|NULL|\n",
            "|      NULL|  Female|                 146,739|                        111,567| 76.0|                  167,553|                  131,231| 78.3|NULL|NULL|NULL|\n",
            "|   Colombo|Both sex|                  32,252|                         23,980| 74.4|                   36,170|                   27,692| 76.6|NULL|NULL|NULL|\n",
            "|      NULL|    Male|                  16,717|                         11,334| 67.8|                   18,319|                   13,190| 72.0|NULL|NULL|NULL|\n",
            "+----------+--------+------------------------+-------------------------------+-----+-------------------------+-------------------------+-----+----+----+----+\n",
            "only showing top 5 rows\n",
            "\n",
            "+----------+--------+-----------+--------------+---------------+-----------+--------------+---------------+\n",
            "|  District|     Sex|OL_Sat_2015|OL_Passed_2015|OL_Percent_2015|OL_Sat_2019|OL_Passed_2019|OL_Percent_2019|\n",
            "+----------+--------+-----------+--------------+---------------+-----------+--------------+---------------+\n",
            "|Sri Lanka |Both sex|    290,929|       195,358|           67.2|    334,474|       236,093|           70.6|\n",
            "|   Colombo|Both sex|     32,252|        23,980|           74.4|     36,170|        27,692|           76.6|\n",
            "|   Gampaha|Both sex|     27,945|        19,043|           68.1|     31,915|        23,125|           72.5|\n",
            "|  Kalutara|Both sex|     16,067|        11,000|           68.5|     18,599|        13,182|           70.9|\n",
            "|     Kandy|Both sex|     20,355|        13,739|           67.5|     24,084|        17,166|           71.3|\n",
            "+----------+--------+-----------+--------------+---------------+-----------+--------------+---------------+\n",
            "only showing top 5 rows\n",
            "\n"
          ]
        }
      ]
    },
    {
      "cell_type": "code",
      "source": [
        "df4.show()"
      ],
      "metadata": {
        "colab": {
          "base_uri": "https://localhost:8080/"
        },
        "id": "mMKMEBJ8RUOI",
        "outputId": "bf1da6b7-c47b-4df3-ba0e-f47e1047ae99"
      },
      "execution_count": 83,
      "outputs": [
        {
          "output_type": "stream",
          "name": "stdout",
          "text": [
            "+------------+--------+-----------+--------------+---------------+-----------+--------------+---------------+\n",
            "|    District|     Sex|OL_Sat_2015|OL_Passed_2015|OL_Percent_2015|OL_Sat_2019|OL_Passed_2019|OL_Percent_2019|\n",
            "+------------+--------+-----------+--------------+---------------+-----------+--------------+---------------+\n",
            "|  Sri Lanka |Both sex|    290,929|       195,358|           67.2|    334,474|       236,093|           70.6|\n",
            "|     Colombo|Both sex|     32,252|        23,980|           74.4|     36,170|        27,692|           76.6|\n",
            "|     Gampaha|Both sex|     27,945|        19,043|           68.1|     31,915|        23,125|           72.5|\n",
            "|    Kalutara|Both sex|     16,067|        11,000|           68.5|     18,599|        13,182|           70.9|\n",
            "|       Kandy|Both sex|     20,355|        13,739|           67.5|     24,084|        17,166|           71.3|\n",
            "|      Matale|Both sex|      6,950|         4,376|           63.0|      8,239|         5,640|           68.5|\n",
            "|Nuwara Eliya|Both sex|     10,252|         6,019|           58.7|     12,448|         7,761|           62.3|\n",
            "|       Galle|Both sex|     15,701|        11,333|           72.2|     16,859|        12,592|           74.7|\n",
            "|      Matara|Both sex|     12,000|         8,858|           73.8|     12,886|         9,939|           77.1|\n",
            "|  Hambantota|Both sex|      8,885|         6,544|           73.7|     10,029|         7,908|           78.9|\n",
            "|      Jaffna|Both sex|     10,694|         6,308|           59.0|      9,278|         6,049|           65.2|\n",
            "|      Mannar|Both Sex|      1,745|         1,168|           66.9|      1,881|         1,263|           67.1|\n",
            "|    Vavuniya|Both Sex|      2,724|         1,683|           61.8|      2,732|         1,762|           64.5|\n",
            "|   Mullativu|Both Sex|      1,757|           875|           49.8|      1,944|         1,131|           58.2|\n",
            "|Killinochchi|Both Sex|      2,480|         1,079|           43.5|      2,576|         1,415|           54.9|\n",
            "|  Batticaloa|Both Sex|      7,499|         4,686|           62.5|     10,276|         6,343|           61.7|\n",
            "|      Ampara|Both Sex|      9,244|         6,122|           66.2|     12,816|         8,320|           64.9|\n",
            "| Trincomalee|Both Sex|      6,064|         3,361|           55.4|      8,541|         4,431|           51.9|\n",
            "|  Kurunegala|Both Sex|     23,081|        16,190|           70.1|     26,074|        19,763|           75.8|\n",
            "|    Puttalam|Both Sex|     10,392|         6,497|           62.5|     11,577|         7,941|           68.6|\n",
            "+------------+--------+-----------+--------------+---------------+-----------+--------------+---------------+\n",
            "only showing top 20 rows\n",
            "\n"
          ]
        }
      ]
    },
    {
      "cell_type": "code",
      "source": [
        "df5.show(5)\n",
        "\n",
        "df5 = df5.withColumnRenamed(\"District\", \"District\") \\\n",
        "         .withColumnRenamed(\"Gender\", \"Gender\") \\\n",
        "         .withColumnRenamed(\"Sat for G.C.E (A/L) 2015\", \"AL_Sat_2015\") \\\n",
        "         .withColumnRenamed(\"Eligible for university entrance 2015\", \"AL_Eligible_2015\") \\\n",
        "         .withColumnRenamed(\"2015%\", \"AL_Percent_2015\") \\\n",
        "         .withColumnRenamed(\"Sat for G.C.E (A/L) 2020\", \"AL_Sat_2020\") \\\n",
        "         .withColumnRenamed(\"Eligible for university entrance 2020\", \"AL_Eligible_2020\") \\\n",
        "         .withColumnRenamed(\"2020%\", \"AL_Percent_2020\")\n",
        "\n",
        "df5 = df5.filter(~col(\"District\").contains(\"Sri Lanka\"))\n",
        "df5 = df5.filter(col(\"District\").isNotNull())\n",
        "\n",
        "df5.show(5)\n"
      ],
      "metadata": {
        "colab": {
          "base_uri": "https://localhost:8080/"
        },
        "id": "uU3gSjL5R9lK",
        "outputId": "ea9650ab-763c-4b2b-88cc-1d1d5f37e9df"
      },
      "execution_count": 84,
      "outputs": [
        {
          "output_type": "stream",
          "name": "stdout",
          "text": [
            "+---------+--------+------------------------+-------------------------------------+-----+------------------------+-------------------------------------+-----+\n",
            "| District|  Gender|Sat for G.C.E (A/L) 2015|Eligible for university entrance 2015|2015%|Sat for G.C.E (A/L) 2020|Eligible for university entrance 2020|2020%|\n",
            "+---------+--------+------------------------+-------------------------------------+-----+------------------------+-------------------------------------+-----+\n",
            "|Sri Lanka|Both sex|                 210,340|                              131,137| 62.4|                 277,625|                              178,337| 64.2|\n",
            "|     NULL|    Male|                  88,702|                               46,689| 52.6|                 117,651|                               63,768| 54.2|\n",
            "|     NULL|  Female|                 121,638|                               84,448| 69.4|                 159,974|                              114,569| 71.6|\n",
            "|  Colombo|Both sex|                  25,913|                               16,502| 63.7|                  32,151|                               21,297| 66.2|\n",
            "|     NULL|    Male|                  12,412|                                7,099| 57.2|                  15,337|                                9,220| 60.1|\n",
            "+---------+--------+------------------------+-------------------------------------+-----+------------------------+-------------------------------------+-----+\n",
            "only showing top 5 rows\n",
            "\n",
            "+--------+--------+-----------+----------------+---------------+-----------+----------------+---------------+\n",
            "|District|  Gender|AL_Sat_2015|AL_Eligible_2015|AL_Percent_2015|AL_Sat_2020|AL_Eligible_2020|AL_Percent_2020|\n",
            "+--------+--------+-----------+----------------+---------------+-----------+----------------+---------------+\n",
            "| Colombo|Both sex|     25,913|          16,502|           63.7|     32,151|          21,297|           66.2|\n",
            "| Gampaha|Both sex|     19,194|          11,994|           62.5|     25,881|          16,656|           64.4|\n",
            "|Kalutara|Both sex|     11,414|           7,020|           61.5|     15,560|          10,016|           64.4|\n",
            "|   Kandy|Both sex|     15,413|           9,374|           60.8|     20,795|          12,733|           61.2|\n",
            "|  Matale|Both sex|      4,799|           2,948|           61.4|      6,792|           4,340|           63.9|\n",
            "+--------+--------+-----------+----------------+---------------+-----------+----------------+---------------+\n",
            "only showing top 5 rows\n",
            "\n"
          ]
        }
      ]
    },
    {
      "cell_type": "code",
      "source": [
        "from pyspark.sql.functions import lower, trim\n",
        "\n",
        "dfs = [df1, df2, df3, df4, df5]\n",
        "dfs = [df.withColumn(\"District\", trim(lower(col(\"District\")))) for df in dfs]\n",
        "\n",
        "df1, df2, df3, df4, df5 = dfs\n",
        "\n",
        "merged_df = df1 \\\n",
        "    .join(df2, on=\"District\", how=\"left\") \\\n",
        "    .join(df3, on=\"District\", how=\"left\") \\\n",
        "    .join(df4, on=\"District\", how=\"left\") \\\n",
        "    .join(df5, on=\"District\", how=\"left\")\n",
        "\n",
        "merged_df.show(truncate=False)\n",
        "\n"
      ],
      "metadata": {
        "colab": {
          "base_uri": "https://localhost:8080/"
        },
        "id": "jCdd7_o_myBl",
        "outputId": "c9ae92e8-ca86-49f0-e476-bdf2f362d02e"
      },
      "execution_count": 85,
      "outputs": [
        {
          "output_type": "stream",
          "name": "stdout",
          "text": [
            "+------------+-------+-------+-------+-------+-------+-------+-------+-------+-------+--------+------------+------------------+---------+----------+-----------------+-------+--------------+-------------+---------------+---------------+-----------------+--------+--------+--------+-----------+--------------+---------------+-----------+--------------+---------------+--------+-----------+----------------+---------------+-----------+----------------+---------------+\n",
            "|District    |Grade 1|Grade 2|Grade 3|Grade 4|Grade 5|Grade 6|Grade 7|Grade 8|Grade 9|Grade 10|Grade 11-1st|Grade 11 repeaters|Grade 12 | Grade 13 |Special education|Total  |Total_Teachers|Male_Teachers|Male_Percentage|Female_Teachers|Female_Percentage|STR_2015|STR_2020|Sex     |OL_Sat_2015|OL_Passed_2015|OL_Percent_2015|OL_Sat_2019|OL_Passed_2019|OL_Percent_2019|Gender  |AL_Sat_2015|AL_Eligible_2015|AL_Percent_2015|AL_Sat_2020|AL_Eligible_2020|AL_Percent_2020|\n",
            "+------------+-------+-------+-------+-------+-------+-------+-------+-------+-------+--------+------------+------------------+---------+----------+-----------------+-------+--------------+-------------+---------------+---------------+-----------------+--------+--------+--------+-----------+--------------+---------------+-----------+--------------+---------------+--------+-----------+----------------+---------------+-----------+----------------+---------------+\n",
            "|colombo     |24,687 |25,994 |25,909 |26,786 |26,496 |29,775 |31,491 |30,949 |30,785 |30,357  |29,753      |131               |23,250   |21,724    |340              |358,427|22,206        |3,772        |17.0           |18,434         |83.0             |22      |20.0    |Both sex|32,252     |23,980        |74.4           |36,170     |27,692        |76.6           |Both sex|25,913     |16,502          |63.7           |32,151     |21,297          |66.2           |\n",
            "|gampaha     |26,351 |27,392 |27,587 |28,112 |27,292 |28,203 |29,766 |29,287 |28,786 |28,388  |27,606      |50                |19,202   |18,135    |512              |346,669|19,151        |3,471        |18.1           |15,680         |81.9             |22      |20.8    |Both sex|27,945     |19,043        |68.1           |31,915     |23,125        |72.5           |Both sex|19,194     |11,994          |62.5           |25,881     |16,656          |64.4           |\n",
            "|kalutara    |17,474 |18,217 |17,961 |18,228 |17,624 |17,852 |19,059 |18,865 |18,667 |18,055  |16,899      |376               |11,871   |11,290    |343              |222,781|12,605        |2,186        |17.3           |10,419         |82.7             |20      |19.3    |Both sex|16,067     |11,000        |68.5           |18,599     |13,182        |70.9           |Both sex|11,414     |7,020           |61.5           |15,560     |10,016          |64.4           |\n",
            "|kandy       |21,730 |22,991 |21,844 |21,822 |21,767 |22,131 |22,917 |22,654 |22,066 |21,552  |21,385      |270               |16,175   |15,191    |442              |274,937|19,320        |4,053        |21.0           |15,267         |79.0             |16      |15.5    |Both sex|20,355     |13,739        |67.5           |24,084     |17,166        |71.3           |Both sex|15,413     |9,374           |60.8           |20,795     |12,733          |61.2           |\n",
            "|matale      |8,557  |8,739  |9,002  |8,734  |8,326  |8,264  |8,624  |8,313  |8,036  |7,757   |7,839       |103               |5,540    |4,968     |181              |102,983|6,943         |1,653        |23.8           |5,290          |76.2             |15      |15.5    |Both sex|6,950      |4,376         |63.0           |8,239      |5,640         |68.5           |Both sex|4,799      |2,948           |61.4           |6,792      |4,340           |63.9           |\n",
            "|nuwara eliya|12,520 |13,844 |13,722 |13,287 |12,904 |13,263 |13,584 |13,868 |13,807 |12,764  |11,918      |278               |7,365    |6,672     |257              |160,053|10,798        |3,182        |29.5           |7,616          |70.5             |16      |15.1    |Both sex|10,252     |6,019         |58.7           |12,448     |7,761         |62.3           |Both sex|5,834      |3,645           |62.5           |8,331      |5,156           |61.9           |\n",
            "|galle       |16,610 |17,081 |17,132 |17,349 |16,659 |17,599 |18,689 |18,433 |18,535 |17,269  |16,870      |175               |12,080   |11,329    |329              |216,139|13,064        |2,990        |22.9           |10,074         |77.1             |20      |17.4    |Both sex|15,701     |11,333        |72.2           |16,859     |12,592        |74.7           |Both sex|12,731     |7,733           |60.7           |15,789     |10,488          |66.4           |\n",
            "|matara      |12,593 |13,020 |13,364 |13,281 |12,890 |13,028 |13,827 |13,866 |13,645 |13,059  |12,039      |345               |9,232    |8,579     |343              |163,111|11,426        |2,642        |23.1           |8,784          |76.9             |16      |15.5    |Both sex|12,000     |8,858         |73.8           |12,886     |9,939         |77.1           |Both sex|9,992      |6,398           |64.0           |12,647     |8,349           |66.0           |\n",
            "|hambantota  |11,817 |11,745 |11,764 |11,639 |10,986 |11,109 |11,549 |11,076 |10,941 |10,504  |10,021      |381               |7,413    |6,959     |243              |138,147|8,907         |2,329        |26.1           |6,578          |73.9             |17      |16.2    |Both sex|8,885      |6,544         |73.7           |10,029     |7,908         |78.9           |Both sex|7,222      |4,537           |62.8           |9,496      |5,780           |60.9           |\n",
            "|jaffna      |7,689  |8,576  |7,928  |8,375  |7,952  |7,681  |8,020  |8,641  |9,099  |8,876   |8,522       |1,111             |5,403    |5,230     |309              |103,412|9,819         |2,998        |30.5           |6,821          |69.5             |15      |11.0    |Both sex|10,694     |6,308         |59.0           |9,278      |6,049         |65.2           |Both sex|7,346      |4,872           |66.3           |7,927      |5,148           |64.9           |\n",
            "|mannar      |2,029  |2,153  |2,262  |2,230  |2,137  |2,121  |2,156  |2,387  |2,058  |2,078   |1,812       |360               |1,267    |1,240     |68               |26,358 |2,116         |677          |32.0           |1,439          |68.0             |14      |12.5    |Both Sex|1,745      |1,168         |66.9           |1,881      |1,263         |67.1           |Both sex|1,289      |843             |65.4           |1,570      |985             |62.7           |\n",
            "|vavuniya    |2,821  |3,265  |2,957  |3,119  |3,059  |2,829  |2,956  |3,116  |2,942  |2,827   |2,656       |181               |1,609    |1,592     |114              |36,043 |3,016         |832          |27.6           |2,184          |72.4             |14      |12.1    |Both Sex|2,724      |1,683         |61.8           |2,732      |1,762         |64.5           |Both sex|1,743      |1,114           |63.9           |2,092      |1,211           |57.9           |\n",
            "|mullativu   |2,038  |2,264  |2,196  |2,160  |2,444  |2,174  |2,260  |2,691  |2,367  |2,162   |1,840       |311               |1,126    |1,083     |104              |27,220 |2,136         |711          |33.3           |1,425          |66.7             |16      |12.8    |Both Sex|1,757      |875           |49.8           |1,944      |1,131         |58.2           |Both sex|1,073      |655             |61.0           |1,379      |859             |62.3           |\n",
            "|killinochchi|1,797  |2,185  |2,269  |2,342  |2,587  |2,367  |2,783  |3,136  |2,574  |2,521   |2,421       |318               |1,482    |1,308     |210              |30,300 |2,099         |527          |25.1           |1,572          |74.9             |18      |14.4    |Both Sex|2,480      |1,079         |43.5           |2,576      |1,415         |54.9           |Both sex|1,233      |790             |64.1           |1,662      |1,026           |61.7           |\n",
            "|batticaloa  |9,691  |10,451 |9,602  |10,239 |9,933  |10,043 |10,885 |10,943 |10,993 |10,400  |8,338       |1,036             |5,520    |5,247     |167              |123,488|7,656         |2,835        |37.0           |4,821          |63.0             |19      |16.1    |Both Sex|7,499      |4,686         |62.5           |10,276     |6,343         |61.7           |Both sex|4,657      |3,000           |64.4           |6,615      |3,968           |60.0           |\n",
            "|ampara      |12,832 |13,157 |12,904 |13,412 |13,431 |13,393 |13,594 |13,853 |13,731 |12,560  |10,718      |1,061             |7,554    |7,002     |558              |159,760|10,668        |3,813        |35.7           |6,855          |64.3             |18      |15.2    |Both Sex|9,244      |6,122         |66.2           |12,816     |8,320         |64.9           |Both Sex|6,447      |3,812           |59.1           |9,495      |5,615           |59.14          |\n",
            "|trincomalee |8,127  |7,969  |7,694  |8,325  |8,183  |8,248  |8,501  |8,571  |8,200  |7,123   |6,093       |582               |4,019    |3,733     |225              |95,593 |5,885         |2,490        |42.3           |3,395          |57.7             |19      |16.4    |Both Sex|6,064      |3,361         |55.4           |8,541      |4,431         |51.9           |Both sex|3,554      |2,231           |62.8           |4,911      |3,091           |62.9           |\n",
            "|kurunegala  |26,840 |27,276 |27,832 |27,927 |27,350 |27,577 |28,354 |27,550 |27,113 |26,662  |25,428      |511               |19,208   |17,525    |720              |337,873|21,772        |5,382        |24.7           |16,390         |75.3             |17      |16.2    |Both Sex|23,081     |16,190        |70.1           |26,074     |19,763        |75.8           |Both sex|17,946     |10,613          |59.1           |23,369     |15,631          |66.9           |\n",
            "|puttalam    |13,642 |14,124 |13,935 |14,389 |13,649 |14,201 |14,793 |14,605 |13,348 |12,572  |11,527      |330               |7,156    |6,709     |300              |165,280|9,092         |2,260        |24.9           |6,832          |75.1             |22      |18.4    |Both Sex|10,392     |6,497         |62.5           |11,577     |7,941         |68.6           |Both sex|6,086      |3,842           |63.1           |7,965      |5,398           |67.8           |\n",
            "|anuradhapura|17,027 |17,923 |17,573 |17,875 |17,455 |17,539 |17,638 |17,163 |16,149 |15,284  |14,673      |316               |9,925    |9,157     |366              |206,063|12,698        |3,748        |29.5           |8,950          |70.5             |16      |16.9    |Both Sex|12,614     |8,296         |65.8           |15,530     |10,708        |69.0           |Both sex|8,455      |5,133           |60.7           |12,381     |7,777           |62.8           |\n",
            "+------------+-------+-------+-------+-------+-------+-------+-------+-------+-------+--------+------------+------------------+---------+----------+-----------------+-------+--------------+-------------+---------------+---------------+-----------------+--------+--------+--------+-----------+--------------+---------------+-----------+--------------+---------------+--------+-----------+----------------+---------------+-----------+----------------+---------------+\n",
            "only showing top 20 rows\n",
            "\n"
          ]
        }
      ]
    },
    {
      "cell_type": "code",
      "source": [
        "output_path = \"/content/BigDataAssignment/data/merged_dataset.csv\"\n",
        "merged_df.coalesce(1).write.mode(\"overwrite\").option(\"header\", \"true\").csv(output_path)"
      ],
      "metadata": {
        "id": "wG4ajng0VpEn"
      },
      "execution_count": 86,
      "outputs": []
    },
    {
      "cell_type": "markdown",
      "source": [
        "# Analyze Student Perfomance of 2020 AL Based on Subject"
      ],
      "metadata": {
        "id": "Hm1ewlkY3_Q6"
      }
    },
    {
      "cell_type": "code",
      "source": [
        "!wget -O al_data.csv https://raw.githubusercontent.com/SasikaA073/gce-al-2020-public-dataset-m/main/2020_al_data_kaggle_upload_new_old_syllabi.csv"
      ],
      "metadata": {
        "colab": {
          "base_uri": "https://localhost:8080/"
        },
        "id": "YremIKVS3vhm",
        "outputId": "416edb87-151a-4d69-8db0-eb7f1d29f7f7"
      },
      "execution_count": 92,
      "outputs": [
        {
          "output_type": "stream",
          "name": "stdout",
          "text": [
            "--2025-09-20 06:51:21--  https://raw.githubusercontent.com/SasikaA073/gce-al-2020-public-dataset-m/main/2020_al_data_kaggle_upload_new_old_syllabi.csv\n",
            "Resolving raw.githubusercontent.com (raw.githubusercontent.com)... 185.199.108.133, 185.199.109.133, 185.199.110.133, ...\n",
            "Connecting to raw.githubusercontent.com (raw.githubusercontent.com)|185.199.108.133|:443... connected.\n",
            "HTTP request sent, awaiting response... 200 OK\n",
            "Length: 41957453 (40M) [text/plain]\n",
            "Saving to: ‘al_data.csv’\n",
            "\n",
            "al_data.csv         100%[===================>]  40.01M   249MB/s    in 0.2s    \n",
            "\n",
            "2025-09-20 06:51:22 (249 MB/s) - ‘al_data.csv’ saved [41957453/41957453]\n",
            "\n"
          ]
        }
      ]
    },
    {
      "cell_type": "markdown",
      "source": [
        "# Average Z-score by Stream"
      ],
      "metadata": {
        "id": "ycSwepNr7BjI"
      }
    },
    {
      "cell_type": "code",
      "source": [
        "df_al = spark.read.option(\"header\", \"true\").option(\"inferSchema\", \"true\").csv(\"/content/BigDataAssignment/al_data.csv\")\n",
        "\n",
        "df_al.printSchema()\n",
        "df_al.show(5)"
      ],
      "metadata": {
        "colab": {
          "base_uri": "https://localhost:8080/"
        },
        "id": "v2BprxJ83-Yz",
        "outputId": "c7f0c10c-f30e-4777-94eb-fc5f3b9bcb60"
      },
      "execution_count": 93,
      "outputs": [
        {
          "output_type": "stream",
          "name": "stdout",
          "text": [
            "root\n",
            " |-- index: integer (nullable = true)\n",
            " |-- stream: string (nullable = true)\n",
            " |-- Zscore: string (nullable = true)\n",
            " |-- district_rank: string (nullable = true)\n",
            " |-- island_rank: string (nullable = true)\n",
            " |-- al_year: integer (nullable = true)\n",
            " |-- sub1: string (nullable = true)\n",
            " |-- sub1_r: string (nullable = true)\n",
            " |-- sub2: string (nullable = true)\n",
            " |-- sub2_r: string (nullable = true)\n",
            " |-- sub3: string (nullable = true)\n",
            " |-- sub3_r: string (nullable = true)\n",
            " |-- cgt_r: string (nullable = true)\n",
            " |-- ge_r: string (nullable = true)\n",
            " |-- syllabus: string (nullable = true)\n",
            " |-- birth_day: string (nullable = true)\n",
            " |-- birth_month: string (nullable = true)\n",
            " |-- birth_year: string (nullable = true)\n",
            " |-- gender: string (nullable = true)\n",
            "\n",
            "+-----+--------+------+-------------+-----------+-------+-----------------+------+-----------------+------+----------+------+-----+----+--------+---------+-----------+----------+------+\n",
            "|index|  stream|Zscore|district_rank|island_rank|al_year|             sub1|sub1_r|             sub2|sub2_r|      sub3|sub3_r|cgt_r|ge_r|syllabus|birth_day|birth_month|birth_year|gender|\n",
            "+-----+--------+------+-------------+-----------+-------+-----------------+------+-----------------+------+----------+------+-----+----+--------+---------+-----------+----------+------+\n",
            "|    0|    ARTS|-.3550|   4336 (NEW)|64994 (NEW)|   2020|POLITICAL SCIENCE|     S|DANCING(BHARATHA)|     C|     TAMIL|     S|  056|   S|     new|       31|        May|      2001|female|\n",
            "|    1|    ARTS|-.2648|   4154 (NEW)|62338 (NEW)|   2020|POLITICAL SCIENCE|     S|   CARNATIC MUSIC|     C|     TAMIL|     C|  032|   C|     new|       13|    January|      2002|female|\n",
            "|    2|COMMERCE|-.4760|   6910 (NEW)|37307 (NEW)|   2020|        ECONOMICS|     S| BUSINESS STUDIES|     S|ACCOUNTING|     S|  050|   S|     new|       16|     August|      2001|female|\n",
            "|    3|COMMERCE|-.1012|   5678 (NEW)|30449 (NEW)|   2020|        ECONOMICS|     C| BUSINESS STUDIES|     C|ACCOUNTING|     S|  034|   S|     new|       16|     August|      2001|female|\n",
            "|    4|COMMERCE| .6014|   3269 (NEW)|17010 (NEW)|   2020|        ECONOMICS|     C| BUSINESS STUDIES|     C|ACCOUNTING|     B|  036|   S|     new|        7|     August|      2000|female|\n",
            "+-----+--------+------+-------------+-----------+-------+-----------------+------+-----------------+------+----------+------+-----+----+--------+---------+-----------+----------+------+\n",
            "only showing top 5 rows\n",
            "\n"
          ]
        }
      ]
    },
    {
      "cell_type": "code",
      "source": [
        "df_al.groupBy(\"stream\").agg({\"Zscore\": \"avg\"}).show()"
      ],
      "metadata": {
        "colab": {
          "base_uri": "https://localhost:8080/"
        },
        "id": "lQYkWFWy5gll",
        "outputId": "669a8261-59d2-4a74-b560-799bd9663659"
      },
      "execution_count": 94,
      "outputs": [
        {
          "output_type": "stream",
          "name": "stdout",
          "text": [
            "+--------------------+-------------------+\n",
            "|              stream|        avg(Zscore)|\n",
            "+--------------------+-------------------+\n",
            "|    PHYSICAL SCIENCE| 0.6380124173401914|\n",
            "|                ARTS| 0.4714649261238181|\n",
            "|ENGINEERING TECHN...|  0.463577932469195|\n",
            "|                 NON|0.46618974452554807|\n",
            "|BIOSYSTEMS TECHNO...|0.48749803395889213|\n",
            "|                   -|-0.5598731735336363|\n",
            "|            COMMERCE|  0.496741276926546|\n",
            "|  BIOLOGICAL SCIENCE| 0.6055904726792917|\n",
            "+--------------------+-------------------+\n",
            "\n"
          ]
        }
      ]
    },
    {
      "cell_type": "markdown",
      "source": [
        "# Top/Bottom Performers"
      ],
      "metadata": {
        "id": "ip43sJMy56dT"
      }
    },
    {
      "cell_type": "code",
      "source": [
        "df_al.orderBy(col(\"Zscore\").desc()).show(10)"
      ],
      "metadata": {
        "colab": {
          "base_uri": "https://localhost:8080/"
        },
        "id": "8BwcEdDW5p6c",
        "outputId": "4d787c23-1076-4032-a8e4-e225adf7f235"
      },
      "execution_count": 97,
      "outputs": [
        {
          "output_type": "stream",
          "name": "stdout",
          "text": [
            "+------+--------------------+------+-------------+-----------+-------+--------------------+------+--------------------+------+--------------------+------+-----+----+--------+---------+-----------+----------+------+\n",
            "| index|              stream|Zscore|district_rank|island_rank|al_year|                sub1|sub1_r|                sub2|sub2_r|                sub3|sub3_r|cgt_r|ge_r|syllabus|birth_day|birth_month|birth_year|gender|\n",
            "+------+--------------------+------+-------------+-----------+-------+--------------------+------+--------------------+------+--------------------+------+-----+----+--------+---------+-----------+----------+------+\n",
            "| 61967|ENGINEERING TECHN...|3.5583|      1 (NEW)|    1 (NEW)|   2020|INFORMATION & COM...|     A|ENGINEERING TECHN...|     A|SCIENCE FOR TECHN...|     A|  072|   B|     new|       24|    January|      2002|  male|\n",
            "|187641|ENGINEERING TECHN...|3.3808|      1 (NEW)|    2 (NEW)|   2020|INFORMATION & COM...|     A|ENGINEERING TECHN...|     A|SCIENCE FOR TECHN...|     A|  062|   C|     new|       22|       June|      2001|  male|\n",
            "|  9891|  BIOLOGICAL SCIENCE|3.3182|      1 (NEW)|    1 (NEW)|   2020|             PHYSICS|     A|           CHEMISTRY|     A|             BIOLOGY|     A|  076|   A|     new|       25|    October|      2001|  male|\n",
            "| 62014|ENGINEERING TECHN...|3.3059|      2 (NEW)|    3 (NEW)|   2020|INFORMATION & COM...|     A|ENGINEERING TECHN...|     A|SCIENCE FOR TECHN...|     A|  076|   C|     new|        9|      March|      2001|  male|\n",
            "| 30696|ENGINEERING TECHN...|3.2199|      1 (NEW)|    4 (NEW)|   2020|INFORMATION & COM...|     A|ENGINEERING TECHN...|     A|SCIENCE FOR TECHN...|     A|  070|   A|     new|       26|      April|      2001|  male|\n",
            "|  9958|  BIOLOGICAL SCIENCE|3.1195|      2 (NEW)|    2 (NEW)|   2020|             PHYSICS|     A|           CHEMISTRY|     A|             BIOLOGY|     A|  076|   A|     new|       22|   November|      2001|  male|\n",
            "| 34431|ENGINEERING TECHN...|3.1037|      1 (NEW)|    5 (NEW)|   2020|INFORMATION & COM...|     A|ENGINEERING TECHN...|     A|SCIENCE FOR TECHN...|     A|  066|   B|     new|       21|   December|      2001|  male|\n",
            "| 48022|ENGINEERING TECHN...|3.0800|      2 (NEW)|    6 (NEW)|   2020|INFORMATION & COM...|     A|ENGINEERING TECHN...|     A|SCIENCE FOR TECHN...|     A|  062|   F|     new|       10|       July|      2001|  male|\n",
            "| 34401|ENGINEERING TECHN...|3.0778|      3 (NEW)|    7 (NEW)|   2020|INFORMATION & COM...|     A|ENGINEERING TECHN...|     A|SCIENCE FOR TECHN...|     A|  060|   C|     new|       12|   November|      2001|  male|\n",
            "|267926|  BIOLOGICAL SCIENCE|3.0710|      1 (NEW)|    3 (NEW)|   2020|             PHYSICS|     A|           CHEMISTRY|     A|             BIOLOGY|     A|  080|   A|     new|       20|       June|      2001|  male|\n",
            "+------+--------------------+------+-------------+-----------+-------+--------------------+------+--------------------+------+--------------------+------+-----+----+--------+---------+-----------+----------+------+\n",
            "only showing top 10 rows\n",
            "\n"
          ]
        }
      ]
    },
    {
      "cell_type": "code",
      "source": [
        "df_al.orderBy(col(\"Zscore\").asc()).show(10)"
      ],
      "metadata": {
        "colab": {
          "base_uri": "https://localhost:8080/"
        },
        "id": "2eRKKiZD5zIE",
        "outputId": "3a840779-272f-4d0c-d8b0-cacac10e3c94"
      },
      "execution_count": 96,
      "outputs": [
        {
          "output_type": "stream",
          "name": "stdout",
          "text": [
            "+------+------+------+-------------+-----------+-------+--------------------+------+--------------------+------+--------------------+------+------+------+--------+---------+-----------+----------+------+\n",
            "| index|stream|Zscore|district_rank|island_rank|al_year|                sub1|sub1_r|                sub2|sub2_r|                sub3|sub3_r| cgt_r|  ge_r|syllabus|birth_day|birth_month|birth_year|gender|\n",
            "+------+------+------+-------------+-----------+-------+--------------------+------+--------------------+------+--------------------+------+------+------+--------+---------+-----------+----------+------+\n",
            "|184504|     -|     -|            -|          -|   2020|INFORMATION & COM...|     F|BUDDHIST CIVILIZA...|     F|             SINHALA|     S|   032|     F|     new|       28|        May|      2001|  male|\n",
            "|    59|     -|     -|            -|          -|   2020|           ECONOMICS|     F|    BUSINESS STUDIES|     F|          ACCOUNTING|     F|   046|     S|     new|       21|       July|      2001|female|\n",
            "|184523|     -|     -|            -|          -|   2020|   POLITICAL SCIENCE|     S|BUDDHIST CIVILIZA...|     F|             SINHALA|     F|   044|     F|     new|       26|        May|      2001|  male|\n",
            "|    85|     -|     -|            -|          -|   2020|   POLITICAL SCIENCE|     F|HISTORY OF SRI LA...|     S|COMMUNICATION & M...|     F|   028|     F|     new|       25|    October|      2001|female|\n",
            "|184503|     -|     -|            -|          -|   2020|           ECONOMICS|     F|    BUSINESS STUDIES|     S|          ACCOUNTING|     F|   036|     F|     new|       31|    October|      2001|  male|\n",
            "|    60|     -|     -|            -|          -|   2020|HISTORY OF SRI LA...|Absent|COMMUNICATION & M...|Absent|        CHRISTIANITY|Absent|Absent|Absent|     new|        2|     August|      2000|female|\n",
            "|184484|     -|     -|            -|          -|   2020|BIO-RESOURCE TECH...|Absent|      ORIENTAL MUSIC|Absent|               HINDI|Absent|Absent|Absent|     new|       13|       June|      2001|female|\n",
            "|    50|     -|     -|            -|          -|   2020|           ECONOMICS|Absent|   POLITICAL SCIENCE|     B|               ISLAM|     A|   046|     B|     new|        8|    October|      2001|female|\n",
            "|184475|     -|     -|            -|          -|   2020|   POLITICAL SCIENCE|     F|LOGIC & SCIENTIFI...|     F|             SINHALA|     S|   036|     F|     new|       13|    October|      2001|female|\n",
            "|    14|     -|     -|            -|          -|   2020|           ECONOMICS|     S|    BUSINESS STUDIES|     F|          ACCOUNTING|     F|   038|     S|     new|        3|     August|      2001|female|\n",
            "+------+------+------+-------------+-----------+-------+--------------------+------+--------------------+------+--------------------+------+------+------+--------+---------+-----------+----------+------+\n",
            "only showing top 10 rows\n",
            "\n"
          ]
        }
      ]
    },
    {
      "cell_type": "markdown",
      "source": [
        "# Gender-Based Analysis"
      ],
      "metadata": {
        "id": "EDBFBZkh5_ea"
      }
    },
    {
      "cell_type": "code",
      "source": [
        "df_al.groupBy(\"gender\").agg({\"Zscore\": \"avg\"}).show()\n",
        "df_al.groupBy(\"gender\").count().show()"
      ],
      "metadata": {
        "colab": {
          "base_uri": "https://localhost:8080/"
        },
        "id": "jNRA4xyr54nZ",
        "outputId": "d472a983-614f-4a5f-aea1-54a5924ac9e2"
      },
      "execution_count": 98,
      "outputs": [
        {
          "output_type": "stream",
          "name": "stdout",
          "text": [
            "+-----------+--------------------+\n",
            "|     gender|         avg(Zscore)|\n",
            "+-----------+--------------------+\n",
            "|Major error| -0.3785307692307692|\n",
            "|       NULL|0.031893255813953435|\n",
            "|     female| 0.37292753018220215|\n",
            "|       male| 0.19521364452834547|\n",
            "+-----------+--------------------+\n",
            "\n",
            "+-----------+------+\n",
            "|     gender| count|\n",
            "+-----------+------+\n",
            "|Major error|    24|\n",
            "|       NULL|  1484|\n",
            "|     female|193326|\n",
            "|       male|142719|\n",
            "+-----------+------+\n",
            "\n"
          ]
        }
      ]
    },
    {
      "cell_type": "markdown",
      "source": [
        "# Z-score Distribution Over AL Years"
      ],
      "metadata": {
        "id": "PjWXBEOc6U3-"
      }
    },
    {
      "cell_type": "code",
      "source": [
        "df_al.groupBy(\"al_year\").agg({\"Zscore\": \"avg\"}).orderBy(\"al_year\").show()"
      ],
      "metadata": {
        "colab": {
          "base_uri": "https://localhost:8080/"
        },
        "id": "UMIyustR6Wvx",
        "outputId": "c7caa68c-ab6e-450d-9541-81f59086634d"
      },
      "execution_count": 99,
      "outputs": [
        {
          "output_type": "stream",
          "name": "stdout",
          "text": [
            "+-------+-------------------+\n",
            "|al_year|        avg(Zscore)|\n",
            "+-------+-------------------+\n",
            "|   2020|0.30538889171086053|\n",
            "+-------+-------------------+\n",
            "\n"
          ]
        }
      ]
    },
    {
      "cell_type": "markdown",
      "source": [
        "# Rank-Based Insights"
      ],
      "metadata": {
        "id": "lCeLoX4Q6b4S"
      }
    },
    {
      "cell_type": "code",
      "source": [
        "from pyspark.sql.functions import regexp_extract\n",
        "\n",
        "df_al = df_al.withColumn(\"district_rank_clean\", regexp_extract(\"district_rank\", r\"(\\d+)\", 1).cast(\"int\"))\n",
        "df_al = df_al.withColumn(\"island_rank_clean\", regexp_extract(\"island_rank\", r\"(\\d+)\", 1).cast(\"int\"))\n",
        "df_al.stat.corr(\"district_rank_clean\", \"island_rank_clean\")\n"
      ],
      "metadata": {
        "colab": {
          "base_uri": "https://localhost:8080/"
        },
        "id": "C9sIUs6T6bkS",
        "outputId": "dae6691d-ec95-4f25-efb3-df5d832efb50"
      },
      "execution_count": 101,
      "outputs": [
        {
          "output_type": "execute_result",
          "data": {
            "text/plain": [
              "0.8101931007111215"
            ]
          },
          "metadata": {},
          "execution_count": 101
        }
      ]
    },
    {
      "cell_type": "markdown",
      "source": [
        "# Subject Popularity & Performance"
      ],
      "metadata": {
        "id": "YX0REJE46qqk"
      }
    },
    {
      "cell_type": "code",
      "source": [
        "from pyspark.sql.functions import explode, array\n",
        "\n",
        "df_subjects = df_al.select(explode(array(\"sub1\", \"sub2\", \"sub3\")).alias(\"subject\"))\n",
        "df_subjects.groupBy(\"subject\").count().orderBy(\"count\", ascending=False).show()\n"
      ],
      "metadata": {
        "colab": {
          "base_uri": "https://localhost:8080/"
        },
        "id": "K5bGE91c6t9d",
        "outputId": "8df1c6f1-0d98-43f9-b51c-e22b855e9282"
      },
      "execution_count": 102,
      "outputs": [
        {
          "output_type": "stream",
          "name": "stdout",
          "text": [
            "+--------------------+-----+\n",
            "|             subject|count|\n",
            "+--------------------+-----+\n",
            "|           CHEMISTRY|89933|\n",
            "|             PHYSICS|88767|\n",
            "|             SINHALA|77177|\n",
            "|           ECONOMICS|70023|\n",
            "|          ACCOUNTING|65002|\n",
            "|    BUSINESS STUDIES|63407|\n",
            "|           GEOGRAPHY|61243|\n",
            "|   POLITICAL SCIENCE|56525|\n",
            "|             BIOLOGY|51018|\n",
            "|COMBINED MATHEMATICS|43846|\n",
            "|INFORMATION & COM...|40584|\n",
            "|SCIENCE FOR TECHN...|37890|\n",
            "|COMMUNICATION & M...|34133|\n",
            "|BUDDHIST CIVILIZA...|31988|\n",
            "|AGRICULTURAL SCIENCE|24579|\n",
            "|ENGINEERING TECHN...|24434|\n",
            "|               TAMIL|22295|\n",
            "|HISTORY OF SRI LA...|15805|\n",
            "|BIO SYSTEMS TECHN...|13568|\n",
            "|LOGIC & SCIENTIFI...|10853|\n",
            "+--------------------+-----+\n",
            "only showing top 20 rows\n",
            "\n"
          ]
        }
      ]
    },
    {
      "cell_type": "code",
      "source": [
        "df_subject_grades = df_al.select(\"sub1\", \"sub1_r\").union(\n",
        "                    df_al.select(\"sub2\", \"sub2_r\")).union(\n",
        "                    df_al.select(\"sub3\", \"sub3_r\"))\n",
        "\n",
        "df_subject_grades.groupBy(\"sub1\", \"sub1_r\").count().show()\n"
      ],
      "metadata": {
        "colab": {
          "base_uri": "https://localhost:8080/"
        },
        "id": "wVKPwqj26xyW",
        "outputId": "20b3ebc8-48ef-47b2-fb44-bc6ec55c2455"
      },
      "execution_count": 103,
      "outputs": [
        {
          "output_type": "stream",
          "name": "stdout",
          "text": [
            "+--------------------+------+-----+\n",
            "|                sub1|sub1_r|count|\n",
            "+--------------------+------+-----+\n",
            "|             SINHALA|     C|20886|\n",
            "|AGRICULTURAL SCIENCE|     F| 6015|\n",
            "|           CHEMISTRY|     A| 5746|\n",
            "|             PHYSICS|     F|24992|\n",
            "|            BUDDHISM|     S|  459|\n",
            "|INFORMATION & COM...|Absent| 4482|\n",
            "|             SINHALA|     S|13964|\n",
            "|COMBINED MATHEMATICS|     C| 8082|\n",
            "|AGRICULTURAL SCIENCE|     A|  316|\n",
            "| DANCING(INDIGENOUS)|     S| 1076|\n",
            "|                 ART|     C| 2370|\n",
            "|         MATHEMATICS|     C|   97|\n",
            "|COMBINED MATHEMATICS|     B| 4235|\n",
            "|HISTORY OF SRI LA...|     F|   55|\n",
            "|        CHRISTIANITY|     C|  790|\n",
            "|      ORIENTAL MUSIC|     F|  182|\n",
            "|    CIVIL TECHNOLOGY|     S|   36|\n",
            "|       WESTERN MUSIC|     S|    6|\n",
            "|           ECONOMICS|Absent| 8060|\n",
            "|                 ART|     A|  475|\n",
            "+--------------------+------+-----+\n",
            "only showing top 20 rows\n",
            "\n"
          ]
        }
      ]
    },
    {
      "cell_type": "markdown",
      "source": [
        "# Get best and worst performing subjects"
      ],
      "metadata": {
        "id": "v_tHpjS38R9q"
      }
    },
    {
      "cell_type": "code",
      "source": [
        "from pyspark.sql.functions import col, when, array, explode, struct\n",
        "\n",
        "\n",
        "df_subjects = df_al.select(explode(array(\n",
        "    struct(col(\"sub1\").alias(\"subject\"), col(\"sub1_r\").alias(\"grade\")),\n",
        "    struct(col(\"sub2\").alias(\"subject\"), col(\"sub2_r\").alias(\"grade\")),\n",
        "    struct(col(\"sub3\").alias(\"subject\"), col(\"sub3_r\").alias(\"grade\"))\n",
        ")).alias(\"sub_grade\"))\n",
        "\n",
        "\n",
        "df_subjects = df_subjects.select(\"sub_grade.subject\", \"sub_grade.grade\")\n",
        "\n",
        "df_subjects = df_subjects.withColumn(\"grade_score\", when(col(\"grade\") == \"A\", 5)\n",
        "                                     .when(col(\"grade\") == \"B\", 4)\n",
        "                                     .when(col(\"grade\") == \"C\", 3)\n",
        "                                     .when(col(\"grade\") == \"S\", 2)\n",
        "                                     .when(col(\"grade\") == \"F\", 0)\n",
        "                                     .otherwise(None))\n",
        "\n",
        "df_avg_scores = df_subjects.groupBy(\"subject\")\\\n",
        "    .avg(\"grade_score\")\\\n",
        "    .withColumnRenamed(\"avg(grade_score)\", \"avg_score\")\\\n",
        "    .orderBy(\"avg_score\", ascending=False)\n",
        "\n",
        "df_avg_scores.show(truncate=False)\n",
        "\n",
        "print(\"Best Performing Subject:\")\n",
        "df_avg_scores.orderBy(\"avg_score\", ascending=False).limit(1).show()\n",
        "\n",
        "print(\"Worst Performing Subject:\")\n",
        "df_avg_scores.orderBy(\"avg_score\", ascending=True).limit(1).show()\n"
      ],
      "metadata": {
        "id": "4PaA7qQB8RXO",
        "outputId": "159a7038-1e9d-4c19-b96a-a85343547a43",
        "colab": {
          "base_uri": "https://localhost:8080/"
        }
      },
      "execution_count": 106,
      "outputs": [
        {
          "output_type": "stream",
          "name": "stdout",
          "text": [
            "+---------------------------+------------------+\n",
            "|subject                    |avg_score         |\n",
            "+---------------------------+------------------+\n",
            "|DRAMA AND THEATRE (ENGLISH)|5.0               |\n",
            "|WESTERN MUSIC              |3.8518518518518516|\n",
            "|DANCING(BHARATHA)          |3.6684420772303596|\n",
            "|ORIENTAL MUSIC             |3.457043343653251 |\n",
            "|CHINESE                    |3.446280991735537 |\n",
            "|HISTORY OF INDIA           |3.3419540229885056|\n",
            "|ARABIC                     |3.273770491803279 |\n",
            "|DANCING(INDIGENOUS)        |3.2274793736319247|\n",
            "|CHRISTIANITY               |3.1695721077654517|\n",
            "|CARNATIC MUSIC             |3.1455748552522746|\n",
            "|ISLAM                      |3.096769905622757 |\n",
            "|SINHALA                    |3.0867450344548035|\n",
            "|ISLAMIC CIVILIZATION       |3.0729868031241585|\n",
            "|DRAMA AND THEATRE (TAMIL)  |3.0435741864313295|\n",
            "|HOME ECONOMICS             |3.0392183844777763|\n",
            "|RUSSIAN                    |2.9393939393939394|\n",
            "|HINDUISM                   |2.9329073482428116|\n",
            "|HINDU CIVILIZATION         |2.902092380576392 |\n",
            "|PALI                       |2.895979020979021 |\n",
            "|GREEK & ROMAN CIVILIZATION |2.886206896551724 |\n",
            "+---------------------------+------------------+\n",
            "only showing top 20 rows\n",
            "\n",
            "Best Performing Subject:\n",
            "+--------------------+---------+\n",
            "|             subject|avg_score|\n",
            "+--------------------+---------+\n",
            "|DRAMA AND THEATRE...|      5.0|\n",
            "+--------------------+---------+\n",
            "\n",
            "Worst Performing Subject:\n",
            "+------------------+---------+\n",
            "|           subject|avg_score|\n",
            "+------------------+---------+\n",
            "|HIGHER MATHEMATICS|     NULL|\n",
            "+------------------+---------+\n",
            "\n"
          ]
        }
      ]
    }
  ]
}
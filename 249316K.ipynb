{
 "cells": [
  {
   "cell_type": "markdown",
   "metadata": {},
   "source": [
    "# A/L Examination Performance Analysis\n",
    "Analysis of G.C.E. (A/L) examination data by district and gender."
   ]
  },
  {
   "cell_type": "code",
   "execution_count": null,
   "metadata": {},
   "outputs": [],
   "source": [
    "from pyspark.sql import SparkSession\n",
    "from pyspark.sql.functions import col, avg\n",
    "\n",
    "spark = SparkSession.builder.appName(\"AL_Performance_Analysis\").getOrCreate()\n",
    "\n",
    "# Load the dataset\n",
    "df = spark.read.option(\"header\", True).csv(\"path_to_AL_performance.csv\")\n",
    "\n",
    "# Data type conversion\n",
    "df = df.withColumn(\"Sat_for_AL\", col(\"Sat_for_AL\").cast(\"int\")) \\\n",
    "       .withColumn(\"Eligible_for_university\", col(\"Eligible_for_university\").cast(\"int\")) \\\n",
    "       .withColumn(\"Eligible_Percentage\", col(\"Eligible_Percentage\").cast(\"float\")) \\\n",
    "       .withColumn(\"Year\", col(\"Year\").cast(\"int\"))\n",
    "\n",
    "# Show preview\n",
    "df.show(10)\n",
    "\n",
    "# Average eligibility by district\n",
    "avg_eligibility = df.groupBy(\"District\").agg(avg(\"Eligible_Percentage\").alias(\"Avg_Eligible_Percentage\"))\n",
    "avg_eligibility.show()\n",
    "\n",
    "spark.stop()"
   ]
  }
 ],
 "metadata": {
  "kernelspec": {
   "display_name": "Python 3 (PySpark)",
   "language": "python",
   "name": "python3"
  },
  "language_info": {
   "name": "python",
   "version": "3.8"
  }
 },
 "nbformat": 5,
 "nbformat_minor": 5
}
